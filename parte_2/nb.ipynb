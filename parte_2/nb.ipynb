{
 "cells": [
  {
   "cell_type": "markdown",
   "id": "92f3b9fd",
   "metadata": {},
   "source": [
    "# Naive Bayes"
   ]
  },
  {
   "cell_type": "code",
   "execution_count": 1,
   "id": "15c8704a",
   "metadata": {},
   "outputs": [],
   "source": [
    "import pandas as pd\n",
    "import numpy as np\n",
    "import preprocessing\n",
    "from sklearn.naive_bayes import MultinomialNB\n",
    "from sklearn.naive_bayes import GaussianNB"
   ]
  },
  {
   "cell_type": "code",
   "execution_count": 10,
   "id": "1ae71eac",
   "metadata": {},
   "outputs": [
    {
     "data": {
      "text/html": [
       "<div>\n",
       "<style scoped>\n",
       "    .dataframe tbody tr th:only-of-type {\n",
       "        vertical-align: middle;\n",
       "    }\n",
       "\n",
       "    .dataframe tbody tr th {\n",
       "        vertical-align: top;\n",
       "    }\n",
       "\n",
       "    .dataframe thead th {\n",
       "        text-align: right;\n",
       "    }\n",
       "</style>\n",
       "<table border=\"1\" class=\"dataframe\">\n",
       "  <thead>\n",
       "    <tr style=\"text-align: right;\">\n",
       "      <th></th>\n",
       "      <th>anios_estudiados</th>\n",
       "      <th>barrio</th>\n",
       "      <th>categoria_de_trabajo</th>\n",
       "      <th>edad</th>\n",
       "      <th>educacion_alcanzada</th>\n",
       "      <th>estado_marital</th>\n",
       "      <th>ganancia_perdida_declarada_bolsa_argentina</th>\n",
       "      <th>genero</th>\n",
       "      <th>horas_trabajo_registradas</th>\n",
       "      <th>religion</th>\n",
       "      <th>rol_familiar_registrado</th>\n",
       "      <th>tiene_alto_valor_adquisitivo</th>\n",
       "      <th>trabajo</th>\n",
       "    </tr>\n",
       "  </thead>\n",
       "  <tbody>\n",
       "    <tr>\n",
       "      <th>0</th>\n",
       "      <td>17</td>\n",
       "      <td>Palermo</td>\n",
       "      <td>empleado_provincial</td>\n",
       "      <td>39</td>\n",
       "      <td>universidad_3_anio</td>\n",
       "      <td>sin_matrimonio</td>\n",
       "      <td>2174</td>\n",
       "      <td>hombre</td>\n",
       "      <td>40</td>\n",
       "      <td>cristianismo</td>\n",
       "      <td>sin_familia</td>\n",
       "      <td>0</td>\n",
       "      <td>entretenimiento</td>\n",
       "    </tr>\n",
       "    <tr>\n",
       "      <th>1</th>\n",
       "      <td>17</td>\n",
       "      <td>Palermo</td>\n",
       "      <td>monotibutista</td>\n",
       "      <td>50</td>\n",
       "      <td>universidad_3_anio</td>\n",
       "      <td>matrimonio_civil</td>\n",
       "      <td>0</td>\n",
       "      <td>hombre</td>\n",
       "      <td>13</td>\n",
       "      <td>cristianismo</td>\n",
       "      <td>casado</td>\n",
       "      <td>0</td>\n",
       "      <td>directivo_gerente</td>\n",
       "    </tr>\n",
       "    <tr>\n",
       "      <th>2</th>\n",
       "      <td>13</td>\n",
       "      <td>Palermo</td>\n",
       "      <td>relacion_de_dependencia</td>\n",
       "      <td>38</td>\n",
       "      <td>4_anio</td>\n",
       "      <td>divorciado</td>\n",
       "      <td>0</td>\n",
       "      <td>hombre</td>\n",
       "      <td>40</td>\n",
       "      <td>cristianismo</td>\n",
       "      <td>sin_familia</td>\n",
       "      <td>0</td>\n",
       "      <td>limpiador</td>\n",
       "    </tr>\n",
       "    <tr>\n",
       "      <th>3</th>\n",
       "      <td>11</td>\n",
       "      <td>Palermo</td>\n",
       "      <td>relacion_de_dependencia</td>\n",
       "      <td>53</td>\n",
       "      <td>2_anio</td>\n",
       "      <td>matrimonio_civil</td>\n",
       "      <td>0</td>\n",
       "      <td>hombre</td>\n",
       "      <td>40</td>\n",
       "      <td>judaismo</td>\n",
       "      <td>casado</td>\n",
       "      <td>0</td>\n",
       "      <td>limpiador</td>\n",
       "    </tr>\n",
       "    <tr>\n",
       "      <th>4</th>\n",
       "      <td>17</td>\n",
       "      <td>Balvanera</td>\n",
       "      <td>relacion_de_dependencia</td>\n",
       "      <td>28</td>\n",
       "      <td>universidad_3_anio</td>\n",
       "      <td>matrimonio_civil</td>\n",
       "      <td>0</td>\n",
       "      <td>mujer</td>\n",
       "      <td>40</td>\n",
       "      <td>judaismo</td>\n",
       "      <td>casada</td>\n",
       "      <td>0</td>\n",
       "      <td>profesional_especializado</td>\n",
       "    </tr>\n",
       "    <tr>\n",
       "      <th>...</th>\n",
       "      <td>...</td>\n",
       "      <td>...</td>\n",
       "      <td>...</td>\n",
       "      <td>...</td>\n",
       "      <td>...</td>\n",
       "      <td>...</td>\n",
       "      <td>...</td>\n",
       "      <td>...</td>\n",
       "      <td>...</td>\n",
       "      <td>...</td>\n",
       "      <td>...</td>\n",
       "      <td>...</td>\n",
       "      <td>...</td>\n",
       "    </tr>\n",
       "    <tr>\n",
       "      <th>32556</th>\n",
       "      <td>16</td>\n",
       "      <td>Palermo</td>\n",
       "      <td>relacion_de_dependencia</td>\n",
       "      <td>27</td>\n",
       "      <td>universidad_2_anio</td>\n",
       "      <td>matrimonio_civil</td>\n",
       "      <td>0</td>\n",
       "      <td>mujer</td>\n",
       "      <td>38</td>\n",
       "      <td>cristianismo</td>\n",
       "      <td>casada</td>\n",
       "      <td>0</td>\n",
       "      <td>soporte_tecnico</td>\n",
       "    </tr>\n",
       "    <tr>\n",
       "      <th>32557</th>\n",
       "      <td>13</td>\n",
       "      <td>Palermo</td>\n",
       "      <td>relacion_de_dependencia</td>\n",
       "      <td>40</td>\n",
       "      <td>4_anio</td>\n",
       "      <td>matrimonio_civil</td>\n",
       "      <td>0</td>\n",
       "      <td>hombre</td>\n",
       "      <td>40</td>\n",
       "      <td>cristianismo</td>\n",
       "      <td>casado</td>\n",
       "      <td>1</td>\n",
       "      <td>inspector</td>\n",
       "    </tr>\n",
       "    <tr>\n",
       "      <th>32558</th>\n",
       "      <td>13</td>\n",
       "      <td>Palermo</td>\n",
       "      <td>relacion_de_dependencia</td>\n",
       "      <td>58</td>\n",
       "      <td>4_anio</td>\n",
       "      <td>viudo_a</td>\n",
       "      <td>0</td>\n",
       "      <td>mujer</td>\n",
       "      <td>40</td>\n",
       "      <td>cristianismo</td>\n",
       "      <td>soltero_a</td>\n",
       "      <td>0</td>\n",
       "      <td>entretenimiento</td>\n",
       "    </tr>\n",
       "    <tr>\n",
       "      <th>32559</th>\n",
       "      <td>13</td>\n",
       "      <td>Palermo</td>\n",
       "      <td>relacion_de_dependencia</td>\n",
       "      <td>22</td>\n",
       "      <td>4_anio</td>\n",
       "      <td>sin_matrimonio</td>\n",
       "      <td>0</td>\n",
       "      <td>hombre</td>\n",
       "      <td>20</td>\n",
       "      <td>cristianismo</td>\n",
       "      <td>con_hijos</td>\n",
       "      <td>0</td>\n",
       "      <td>entretenimiento</td>\n",
       "    </tr>\n",
       "    <tr>\n",
       "      <th>32560</th>\n",
       "      <td>13</td>\n",
       "      <td>Palermo</td>\n",
       "      <td>responsable_inscripto</td>\n",
       "      <td>52</td>\n",
       "      <td>4_anio</td>\n",
       "      <td>matrimonio_civil</td>\n",
       "      <td>15024</td>\n",
       "      <td>mujer</td>\n",
       "      <td>40</td>\n",
       "      <td>cristianismo</td>\n",
       "      <td>casada</td>\n",
       "      <td>1</td>\n",
       "      <td>directivo_gerente</td>\n",
       "    </tr>\n",
       "  </tbody>\n",
       "</table>\n",
       "<p>32561 rows × 13 columns</p>\n",
       "</div>"
      ],
      "text/plain": [
       "       anios_estudiados     barrio     categoria_de_trabajo  edad  \\\n",
       "0                    17    Palermo      empleado_provincial    39   \n",
       "1                    17    Palermo            monotibutista    50   \n",
       "2                    13    Palermo  relacion_de_dependencia    38   \n",
       "3                    11    Palermo  relacion_de_dependencia    53   \n",
       "4                    17  Balvanera  relacion_de_dependencia    28   \n",
       "...                 ...        ...                      ...   ...   \n",
       "32556                16    Palermo  relacion_de_dependencia    27   \n",
       "32557                13    Palermo  relacion_de_dependencia    40   \n",
       "32558                13    Palermo  relacion_de_dependencia    58   \n",
       "32559                13    Palermo  relacion_de_dependencia    22   \n",
       "32560                13    Palermo    responsable_inscripto    52   \n",
       "\n",
       "      educacion_alcanzada    estado_marital  \\\n",
       "0      universidad_3_anio    sin_matrimonio   \n",
       "1      universidad_3_anio  matrimonio_civil   \n",
       "2                  4_anio        divorciado   \n",
       "3                  2_anio  matrimonio_civil   \n",
       "4      universidad_3_anio  matrimonio_civil   \n",
       "...                   ...               ...   \n",
       "32556  universidad_2_anio  matrimonio_civil   \n",
       "32557              4_anio  matrimonio_civil   \n",
       "32558              4_anio           viudo_a   \n",
       "32559              4_anio    sin_matrimonio   \n",
       "32560              4_anio  matrimonio_civil   \n",
       "\n",
       "       ganancia_perdida_declarada_bolsa_argentina  genero  \\\n",
       "0                                            2174  hombre   \n",
       "1                                               0  hombre   \n",
       "2                                               0  hombre   \n",
       "3                                               0  hombre   \n",
       "4                                               0   mujer   \n",
       "...                                           ...     ...   \n",
       "32556                                           0   mujer   \n",
       "32557                                           0  hombre   \n",
       "32558                                           0   mujer   \n",
       "32559                                           0  hombre   \n",
       "32560                                       15024   mujer   \n",
       "\n",
       "       horas_trabajo_registradas      religion rol_familiar_registrado  \\\n",
       "0                             40  cristianismo             sin_familia   \n",
       "1                             13  cristianismo                  casado   \n",
       "2                             40  cristianismo             sin_familia   \n",
       "3                             40      judaismo                  casado   \n",
       "4                             40      judaismo                  casada   \n",
       "...                          ...           ...                     ...   \n",
       "32556                         38  cristianismo                  casada   \n",
       "32557                         40  cristianismo                  casado   \n",
       "32558                         40  cristianismo               soltero_a   \n",
       "32559                         20  cristianismo               con_hijos   \n",
       "32560                         40  cristianismo                  casada   \n",
       "\n",
       "       tiene_alto_valor_adquisitivo                    trabajo  \n",
       "0                                 0            entretenimiento  \n",
       "1                                 0          directivo_gerente  \n",
       "2                                 0                  limpiador  \n",
       "3                                 0                  limpiador  \n",
       "4                                 0  profesional_especializado  \n",
       "...                             ...                        ...  \n",
       "32556                             0            soporte_tecnico  \n",
       "32557                             1                  inspector  \n",
       "32558                             0            entretenimiento  \n",
       "32559                             0            entretenimiento  \n",
       "32560                             1          directivo_gerente  \n",
       "\n",
       "[32561 rows x 13 columns]"
      ]
     },
     "execution_count": 10,
     "metadata": {},
     "output_type": "execute_result"
    }
   ],
   "source": [
    "GSPREADHSEET_DOWNLOAD_URL = (\n",
    "    \"https://docs.google.com/spreadsheets/d/{gid}/export?format=csv&id={gid}\".format\n",
    ")\n",
    "\n",
    "FIUFIP_2021_1_GID = '1-DWTP8uwVS-dZY402-dm0F9ICw_6PNqDGLmH0u8Eqa0'\n",
    "df = pd.read_csv(GSPREADHSEET_DOWNLOAD_URL(gid=FIUFIP_2021_1_GID))"
   ]
  },
  {
   "cell_type": "markdown",
   "id": "7eb243b4",
   "metadata": {},
   "source": [
    "### Llamado a funciones de preprocesamiento"
   ]
  },
  {
   "cell_type": "code",
   "execution_count": 3,
   "id": "897e7f5a",
   "metadata": {},
   "outputs": [],
   "source": [
    "df = preprocessing.remove_irrelevant_features(df)\n",
    "df = preprocessing.missings_treatment(df)\n",
    "df = preprocessing.one_hot_encodding(df)"
   ]
  },
  {
   "cell_type": "markdown",
   "id": "66a36972",
   "metadata": {},
   "source": [
    "### Separacion de datos de entrenamiento para los tres modelos a estudiar"
   ]
  },
  {
   "cell_type": "code",
   "execution_count": 4,
   "id": "0f5cd2dd",
   "metadata": {},
   "outputs": [],
   "source": [
    "# modelo 1\n",
    "X_train, X_val, y_train, y_val = preprocessing.dataset_split(df)\n",
    "\n",
    "# modelo 2 y 3\n",
    "X_train_g = X_train[['ganancia_perdida_declarada_bolsa_argentina']]\n",
    "X_val_g = X_val[['ganancia_perdida_declarada_bolsa_argentina']]\n",
    "\n",
    "# modelo 3\n",
    "X_train_m = X_train.drop('ganancia_perdida_declarada_bolsa_argentina', axis='columns')\n",
    "X_val_m = X_val.drop('ganancia_perdida_declarada_bolsa_argentina', axis='columns')"
   ]
  },
  {
   "cell_type": "markdown",
   "id": "f9d03c5b",
   "metadata": {},
   "source": [
    "## Modelos"
   ]
  },
  {
   "cell_type": "markdown",
   "id": "044b27e8",
   "metadata": {},
   "source": [
    "### Modelo 1\n",
    "- se tratan todos los features como continuos"
   ]
  },
  {
   "cell_type": "code",
   "execution_count": 5,
   "id": "d4681eb9",
   "metadata": {},
   "outputs": [
    {
     "name": "stdout",
     "output_type": "stream",
     "text": [
      "7633 de 9769 predicciones correctas\n"
     ]
    }
   ],
   "source": [
    "gnb = GaussianNB().fit(X_train, y_train)\n",
    "\n",
    "y_pred = gnb.predict(X_val)\n",
    "print(f\"{np.sum(y_pred == y_val)} de {len(X_val)} predicciones correctas\")"
   ]
  },
  {
   "cell_type": "markdown",
   "id": "093e2da7",
   "metadata": {},
   "source": [
    "### Modelo 2\n",
    "- se tratan todos los features como discretos \n",
    "- se descarta el feature ganancia_perdida_declarada_bolsa_argentina ya que toma demasiados valores y ademas tiene valores negativos que no son validos para el algoritmo"
   ]
  },
  {
   "cell_type": "code",
   "execution_count": 6,
   "id": "f829e728",
   "metadata": {},
   "outputs": [
    {
     "name": "stdout",
     "output_type": "stream",
     "text": [
      "7366 de 9769 predicciones correctas\n"
     ]
    }
   ],
   "source": [
    "mnb = MultinomialNB().fit(X_train_m, y_train)\n",
    "\n",
    "y_pred = mnb.predict(X_val_m)\n",
    "\n",
    "print(f\"{np.sum(y_pred == y_val)} de {len(X_val_m)} predicciones correctas\")"
   ]
  },
  {
   "cell_type": "markdown",
   "id": "1926493f",
   "metadata": {},
   "source": [
    "### Modelo 3\n",
    "- se usa una combinación de naive bayes multinomial y gaussiano"
   ]
  },
  {
   "cell_type": "code",
   "execution_count": 7,
   "id": "ae41f328",
   "metadata": {},
   "outputs": [
    {
     "name": "stdout",
     "output_type": "stream",
     "text": [
      "7761 de 9769 predicciones correctas\n"
     ]
    }
   ],
   "source": [
    "gnb = GaussianNB().fit(X_train_g, y_train)\n",
    "mnb = MultinomialNB().fit(X_train_m, y_train)\n",
    "\n",
    "X_train_proba_g = pd.DataFrame(gnb.predict_proba(X_train_g)).drop(0, axis='columns')\n",
    "X_train_proba_m = pd.DataFrame(mnb.predict_proba(X_train_m)).drop(0, axis='columns')\n",
    "\n",
    "# se construye el dataframe de probabilidades con los datos de entrenamiento\n",
    "X_train_proba = pd.DataFrame()\n",
    "X_train_proba['1_gaussian'] = X_train_proba_g[1]\n",
    "X_train_proba['1_multinomial'] = X_train_proba_m[1]\n",
    "\n",
    "# se aplica naive bayes gaussiano al dataframe de probabilidades\n",
    "gnb_proba = GaussianNB().fit(X_train_proba, y_train)\n",
    "\n",
    "# se aplica el modelo compuesto a los datos de validación y se obtiene la predicción\n",
    "X_val_proba_g = pd.DataFrame(gnb.predict_proba(X_val_g)).drop(0, axis='columns')\n",
    "X_val_proba_m = pd.DataFrame(mnb.predict_proba(X_val_m)).drop(0, axis='columns')\n",
    "X_val_proba = pd.DataFrame()\n",
    "X_val_proba['1_gaussian'] = X_val_proba_g[1]\n",
    "X_val_proba['1_multinomial'] = X_val_proba_m[1]\n",
    "y_pred = gnb_proba.predict(X_val_proba)\n",
    "\n",
    "print(f\"{np.sum(y_pred == y_val)} de {len(X_val_proba)} predicciones correctas\")"
   ]
  },
  {
   "cell_type": "code",
   "execution_count": 18,
   "id": "f1291af4",
   "metadata": {},
   "outputs": [
    {
     "data": {
      "text/plain": [
       "0.794451837444979"
      ]
     },
     "execution_count": 18,
     "metadata": {},
     "output_type": "execute_result"
    }
   ],
   "source": [
    "import sklearn.metrics as metrics\n",
    "metrics.accuracy_score(y_val, y_pred)"
   ]
  },
  {
   "cell_type": "code",
   "execution_count": 19,
   "id": "68f5d8f4",
   "metadata": {},
   "outputs": [
    {
     "data": {
      "text/plain": [
       "0.7328947368421053"
      ]
     },
     "execution_count": 19,
     "metadata": {},
     "output_type": "execute_result"
    }
   ],
   "source": [
    "metrics.precision_score(y_val, y_pred)"
   ]
  },
  {
   "cell_type": "code",
   "execution_count": 20,
   "id": "29dde89e",
   "metadata": {},
   "outputs": [
    {
     "data": {
      "text/plain": [
       "0.9725934926420953"
      ]
     },
     "execution_count": 20,
     "metadata": {},
     "output_type": "execute_result"
    }
   ],
   "source": [
    "metrics.recall_score(y_val, y_pred, pos_label = 0)"
   ]
  },
  {
   "cell_type": "code",
   "execution_count": 21,
   "id": "5d2bc48e",
   "metadata": {},
   "outputs": [
    {
     "data": {
      "text/plain": [
       "0.3568225496476617"
      ]
     },
     "execution_count": 21,
     "metadata": {},
     "output_type": "execute_result"
    }
   ],
   "source": [
    "metrics.f1_score(y_val, y_pred)"
   ]
  },
  {
   "cell_type": "code",
   "execution_count": 23,
   "id": "f268e27b",
   "metadata": {},
   "outputs": [
    {
     "name": "stdout",
     "output_type": "stream",
     "text": [
      "              precision    recall  f1-score   support\n",
      "\n",
      "           0       0.80      0.97      0.88      7407\n",
      "           1       0.73      0.24      0.36      2362\n",
      "\n",
      "    accuracy                           0.79      9769\n",
      "   macro avg       0.77      0.60      0.62      9769\n",
      "weighted avg       0.78      0.79      0.75      9769\n",
      "\n"
     ]
    }
   ],
   "source": [
    "print(metrics.classification_report(y_val, y_pred))"
   ]
  },
  {
   "cell_type": "code",
   "execution_count": 34,
   "id": "8edbb5b5",
   "metadata": {},
   "outputs": [
    {
     "data": {
      "image/png": "[encoded data removed]",
      "text/plain": [
       "<Figure size 1080x504 with 2 Axes>"
      ]
     },
     "metadata": {},
     "output_type": "display_data"
    }
   ],
   "source": [
    "import seaborn as sns\n",
    "from matplotlib import pyplot as plt\n",
    "sns.set()\n",
    "\n",
    "fig, ax = plt.subplots(figsize=(15, 7))\n",
    "plt.grid(False)\n",
    "metrics.plot_confusion_matrix(gnb_proba, X_val_proba, y_val, cmap=plt.cm.Blues, display_labels=['1', '0'], ax=ax)\n",
    "plt.show()"
   ]
  },
  {
   "cell_type": "code",
   "execution_count": 51,
   "id": "4dc75736",
   "metadata": {},
   "outputs": [
    {
     "data": {
      "image/png": "[encoded data removed]",
      "text/plain": [
       "<Figure size 1080x720 with 1 Axes>"
      ]
     },
     "metadata": {},
     "output_type": "display_data"
    },
    {
     "name": "stdout",
     "output_type": "stream",
     "text": [
      "ROC AUC SCORE: 0.6042052983955607\n"
     ]
    }
   ],
   "source": [
    "def plot_roc(fpr, tpr, x):\n",
    "\n",
    "    roc_auc = metrics.auc(fpr, tpr)\n",
    "\n",
    "    plt.figure(figsize=(15, 10))\n",
    "    plt.plot(fpr, tpr, color='darkorange', lw=2, label=f'ROC curve (area = {roc_auc:.2f})')\n",
    "    plt.plot([0, 1], [0, 1], color='navy', lw=2, linestyle='--')\n",
    "    plt.xlim([0.0, 1.0])\n",
    "    plt.ylim([0.0, 1.05])\n",
    "    plt.xlabel('False Positive Rate')\n",
    "    plt.ylabel('True Positive Rate')\n",
    "    plt.title('Receiver operating characteristic')\n",
    "    plt.legend(loc=\"lower right\")\n",
    "    plt.show()\n",
    "    \n",
    "fpr, tpr, thresholds = metrics.roc_curve(y_val, gnb_proba.predict_proba(X_val_proba)[:,1]) # aca le paso las probabilidades en vez de y_pred, es lo mas recomendado\n",
    "plot_roc(fpr, tpr, thresholds)\n",
    "print(f\"ROC AUC SCORE: {metrics.roc_auc_score(y_val, y_pred)}\") # igual no hace falta esto porque se ve en el grafico (abajo a la derecha)"
   ]
  },
  {
   "cell_type": "code",
   "execution_count": null,
   "id": "d2e8c981",
   "metadata": {},
   "outputs": [],
   "source": []
  }
 ],
 "metadata": {
  "kernelspec": {
   "display_name": "Python 3",
   "language": "python",
   "name": "python3"
  },
  "language_info": {
   "codemirror_mode": {
    "name": "ipython",
    "version": 3
   },
   "file_extension": ".py",
   "mimetype": "text/x-python",
   "name": "python",
   "nbconvert_exporter": "python",
   "pygments_lexer": "ipython3",
   "version": "3.9.5"
  }
 },
 "nbformat": 4,
 "nbformat_minor": 5
}
