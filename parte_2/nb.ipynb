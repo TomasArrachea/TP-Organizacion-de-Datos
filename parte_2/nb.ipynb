{
 "cells": [
  {
   "cell_type": "markdown",
   "id": "50d6b2d2",
   "metadata": {},
   "source": [
    "# Naive Bayes"
   ]
  },
  {
   "cell_type": "code",
   "execution_count": 1,
   "id": "19a6666f",
   "metadata": {},
   "outputs": [],
   "source": [
    "import pandas as pd\n",
    "import numpy as np\n",
    "import preprocessing\n",
    "from sklearn.naive_bayes import MultinomialNB\n",
    "from sklearn.naive_bayes import GaussianNB"
   ]
  },
  {
   "cell_type": "code",
   "execution_count": 2,
   "id": "a1ae6e7e",
   "metadata": {},
   "outputs": [],
   "source": [
    "GSPREADHSEET_DOWNLOAD_URL = (\n",
    "    \"https://docs.google.com/spreadsheets/d/{gid}/export?format=csv&id={gid}\".format\n",
    ")\n",
    "\n",
    "FIUFIP_2021_1_GID = '1-DWTP8uwVS-dZY402-dm0F9ICw_6PNqDGLmH0u8Eqa0'\n",
    "df = pd.read_csv(GSPREADHSEET_DOWNLOAD_URL(gid=FIUFIP_2021_1_GID))"
   ]
  },
  {
   "cell_type": "markdown",
   "id": "2baa7943",
   "metadata": {},
   "source": [
    "### Llamado a funciones de preprocesamiento"
   ]
  },
  {
   "cell_type": "code",
   "execution_count": 3,
   "id": "5526bec7",
   "metadata": {},
   "outputs": [],
   "source": [
    "df = preprocessing.remove_irrelevant_features(df)\n",
    "df = preprocessing.missings_treatment(df)\n",
    "df = preprocessing.one_hot_encodding(df)"
   ]
  },
  {
   "cell_type": "markdown",
   "id": "e906e195",
   "metadata": {},
   "source": [
    "### Separacion de datos de entrenamiento para los tres modelos a estudiar"
   ]
  },
  {
   "cell_type": "code",
   "execution_count": 4,
   "id": "f890b71d",
   "metadata": {},
   "outputs": [],
   "source": [
    "# modelo 1\n",
    "X_train, X_val, y_train, y_val = preprocessing.dataset_split(df)\n",
    "# # modelo 2 y 3\n",
    "# X_train_g = X_train[['ganancia_perdida_declarada_bolsa_argentina']]\n",
    "# X_val_g = X_val[['ganancia_perdida_declarada_bolsa_argentina']]\n",
    "\n",
    "# # modelo 3\n",
    "# X_train_m = X_train.drop('ganancia_perdida_declarada_bolsa_argentina', axis='columns')\n",
    "# X_val_m = X_val.drop('ganancia_perdida_declarada_bolsa_argentina', axis='columns')"
   ]
  },
  {
   "cell_type": "markdown",
   "id": "db408e9d",
   "metadata": {},
   "source": [
    "## Modelos"
   ]
  },
  {
   "cell_type": "markdown",
   "id": "0e2d9c62",
   "metadata": {},
   "source": [
    "### Modelo 1\n",
    "- se tratan todos los features como continuos"
   ]
  },
  {
   "cell_type": "code",
   "execution_count": 5,
   "id": "923e8959",
   "metadata": {},
   "outputs": [
    {
     "name": "stdout",
     "output_type": "stream",
     "text": [
      "7633 de 9769 predicciones correctas\n"
     ]
    }
   ],
   "source": [
    "gnb = GaussianNB().fit(X_train, y_train)\n",
    "\n",
    "y_pred = gnb.predict(X_val)\n",
    "print(f\"{np.sum(y_pred == y_val)} de {len(X_val)} predicciones correctas\")"
   ]
  },
  {
   "cell_type": "markdown",
   "id": "c31dbde3",
   "metadata": {},
   "source": [
    "### Modelo 2\n",
    "- se tratan todos los features como discretos \n",
    "- se descarta el feature ganancia_perdida_declarada_bolsa_argentina ya que toma demasiados valores y ademas tiene valores negativos que no son validos para el algoritmo"
   ]
  },
  {
   "cell_type": "code",
   "execution_count": 6,
   "id": "d1ee9df4",
   "metadata": {},
   "outputs": [
    {
     "name": "stdout",
     "output_type": "stream",
     "text": [
      "7366 de 9769 predicciones correctas\n"
     ]
    }
   ],
   "source": [
    "X_train_m = X_train.drop('ganancia_perdida_declarada_bolsa_argentina', axis='columns')\n",
    "X_val_m = X_val.drop('ganancia_perdida_declarada_bolsa_argentina', axis='columns')\n",
    "\n",
    "mnb = MultinomialNB().fit(X_train_m, y_train)\n",
    "\n",
    "y_pred = mnb.predict(X_val_m)\n",
    "\n",
    "print(f\"{np.sum(y_pred == y_val)} de {len(X_val_m)} predicciones correctas\")"
   ]
  },
  {
   "cell_type": "markdown",
   "id": "850f9232",
   "metadata": {},
   "source": [
    "### Modelo 3\n",
    "- se usa una combinación de naive bayes multinomial y gaussiano"
   ]
  },
  {
   "cell_type": "code",
   "execution_count": 7,
   "id": "fca3bf54",
   "metadata": {},
   "outputs": [
    {
     "name": "stdout",
     "output_type": "stream",
     "text": [
      "7761 de 9769 predicciones correctas\n"
     ]
    }
   ],
   "source": [
    "class Modelo3:\n",
    "    def fit(self, X_train, y_train):\n",
    "\n",
    "        X_train_g = X_train[['ganancia_perdida_declarada_bolsa_argentina']]\n",
    "        X_train_m = X_train.drop('ganancia_perdida_declarada_bolsa_argentina', axis='columns')\n",
    "\n",
    "        self.gnb = GaussianNB().fit(X_train_g, y_train)\n",
    "        self.mnb = MultinomialNB().fit(X_train_m, y_train)\n",
    "\n",
    "        X_train_proba_g = pd.DataFrame(self.gnb.predict_proba(X_train_g)).drop(0, axis='columns')\n",
    "        X_train_proba_m = pd.DataFrame(self.mnb.predict_proba(X_train_m)).drop(0, axis='columns')\n",
    "\n",
    "        # se construye el dataframe de probabilidades con los datos de entrenamiento\n",
    "        X_train_proba = pd.DataFrame()\n",
    "        X_train_proba['1_gaussian'] = X_train_proba_g[1]\n",
    "        X_train_proba['1_multinomial'] = X_train_proba_m[1]\n",
    "\n",
    "        # se aplica naive bayes gaussiano al dataframe de probabilidades\n",
    "        self.gnb_proba = GaussianNB().fit(X_train_proba, y_train)\n",
    "\n",
    "    def predict(self, X_pred):\n",
    "        X_pred_proba = self.construir_instancias_de_probabilidades(X_pred)\n",
    "        return self.gnb_proba.predict(X_pred_proba)\n",
    "    \n",
    "    def predict_proba(self, X_pred):\n",
    "        X_pred_proba = self.construir_instancias_de_probabilidades(X_pred)\n",
    "        return self.gnb_proba.predict_proba(X_pred_proba)\n",
    "\n",
    "    def construir_instancias_de_probabilidades(self, X_pred):\n",
    "        X_pred_g = X_pred[['ganancia_perdida_declarada_bolsa_argentina']]\n",
    "        X_pred_m = X_pred.drop('ganancia_perdida_declarada_bolsa_argentina', axis='columns')\n",
    "\n",
    "        # se aplica el modelo compuesto a los datos de validación y se obtiene la predicción\n",
    "        X_pred_proba_g = pd.DataFrame(self.gnb.predict_proba(X_pred_g)).drop(0, axis='columns')\n",
    "        X_pred_proba_m = pd.DataFrame(self.mnb.predict_proba(X_pred_m)).drop(0, axis='columns')\n",
    "        X_pred_proba = pd.DataFrame()\n",
    "        X_pred_proba['1_gaussian'] = X_pred_proba_g[1]\n",
    "        X_pred_proba['1_multinomial'] = X_pred_proba_m[1]\n",
    "        return X_pred_proba\n",
    "        \n",
    "modelo3 = Modelo3()\n",
    "modelo3.fit(X_train, y_train)\n",
    "y_pred = modelo3.predict(X_val)\n",
    "print(f\"{np.sum(y_pred == y_val)} de {len(X_val)} predicciones correctas\")"
   ]
  },
  {
   "cell_type": "code",
   "execution_count": 8,
   "id": "1f928398",
   "metadata": {},
   "outputs": [
    {
     "data": {
      "text/plain": [
       "0.794451837444979"
      ]
     },
     "execution_count": 8,
     "metadata": {},
     "output_type": "execute_result"
    }
   ],
   "source": [
    "import sklearn.metrics as metrics\n",
    "metrics.accuracy_score(y_val, y_pred)"
   ]
  },
  {
   "cell_type": "code",
   "execution_count": 9,
   "id": "8b809153",
   "metadata": {},
   "outputs": [
    {
     "data": {
      "text/plain": [
       "0.7328947368421053"
      ]
     },
     "execution_count": 9,
     "metadata": {},
     "output_type": "execute_result"
    }
   ],
   "source": [
    "metrics.precision_score(y_val, y_pred)"
   ]
  },
  {
   "cell_type": "code",
   "execution_count": 10,
   "id": "e5766437",
   "metadata": {},
   "outputs": [
    {
     "data": {
      "text/plain": [
       "0.9725934926420953"
      ]
     },
     "execution_count": 10,
     "metadata": {},
     "output_type": "execute_result"
    }
   ],
   "source": [
    "metrics.recall_score(y_val, y_pred, pos_label = 0)"
   ]
  },
  {
   "cell_type": "code",
   "execution_count": 11,
   "id": "3557ff9a",
   "metadata": {},
   "outputs": [
    {
     "data": {
      "text/plain": [
       "0.3568225496476617"
      ]
     },
     "execution_count": 11,
     "metadata": {},
     "output_type": "execute_result"
    }
   ],
   "source": [
    "metrics.f1_score(y_val, y_pred)"
   ]
  },
  {
   "cell_type": "code",
   "execution_count": 12,
   "id": "8d0b23ac",
   "metadata": {},
   "outputs": [
    {
     "name": "stdout",
     "output_type": "stream",
     "text": [
      "              precision    recall  f1-score   support\n",
      "\n",
      "           0       0.80      0.97      0.88      7407\n",
      "           1       0.73      0.24      0.36      2362\n",
      "\n",
      "    accuracy                           0.79      9769\n",
      "   macro avg       0.77      0.60      0.62      9769\n",
      "weighted avg       0.78      0.79      0.75      9769\n",
      "\n"
     ]
    }
   ],
   "source": [
    "print(metrics.classification_report(y_val, y_pred))"
   ]
  },
  {
   "cell_type": "code",
   "execution_count": 13,
   "id": "7fa792a1",
   "metadata": {},
   "outputs": [
    {
     "data": {
      "image/png": "[encoded data removed]",
      "text/plain": [
       "<Figure size 1080x504 with 2 Axes>"
      ]
     },
     "metadata": {},
     "output_type": "display_data"
    }
   ],
   "source": [
    "import seaborn as sns\n",
    "from matplotlib import pyplot as plt\n",
    "sns.set()\n",
    "\n",
    "fig, ax = plt.subplots(figsize=(15, 7))\n",
    "plt.grid(False)\n",
    "metrics.plot_confusion_matrix(modelo3.gnb_proba, modelo3.construir_instancias_de_probabilidades(X_val), y_val, cmap=plt.cm.Blues, display_labels=['1', '0'], ax=ax)\n",
    "plt.show()"
   ]
  },
  {
   "cell_type": "code",
   "execution_count": 19,
   "id": "1d00d2d5",
   "metadata": {},
   "outputs": [
    {
     "data": {
      "image/png": "[encoded data removed]",
      "text/plain": [
       "<Figure size 1080x720 with 1 Axes>"
      ]
     },
     "metadata": {},
     "output_type": "display_data"
    },
    {
     "name": "stdout",
     "output_type": "stream",
     "text": [
      "ROC AUC SCORE: 0.8575488184449636\n"
     ]
    }
   ],
   "source": [
    "def plot_roc(fpr, tpr, x):\n",
    "\n",
    "    roc_auc = metrics.auc(fpr, tpr)\n",
    "\n",
    "    plt.figure(figsize=(15, 10))\n",
    "    plt.plot(fpr, tpr, color='darkorange', lw=2, label=f'ROC curve (area = {roc_auc:.2f})')\n",
    "    plt.plot([0, 1], [0, 1], color='navy', lw=2, linestyle='--')\n",
    "    plt.xlim([0.0, 1.0])\n",
    "    plt.ylim([0.0, 1.05])\n",
    "    plt.xlabel('False Positive Rate')\n",
    "    plt.ylabel('True Positive Rate')\n",
    "    plt.title('Receiver operating characteristic')\n",
    "    plt.legend(loc=\"lower right\")\n",
    "    plt.show()\n",
    "    \n",
    "fpr, tpr, thresholds = metrics.roc_curve(y_val, modelo3.predict_proba(X_val)[:,1]) # aca le paso las probabilidades en vez de y_pred, es lo mas recomendado\n",
    "plot_roc(fpr, tpr, thresholds)\n",
    "print(f\"ROC AUC SCORE: {metrics.roc_auc_score(y_val, modelo3.predict_proba(X_val)[:,1])}\") # igual no hace falta esto porque se ve en el grafico (abajo a la derecha)"
   ]
  },
  {
   "cell_type": "code",
   "execution_count": 32,
   "id": "fb5730b0",
   "metadata": {},
   "outputs": [
    {
     "data": {
      "text/plain": [
       "0.8587747123912763"
      ]
     },
     "execution_count": 32,
     "metadata": {},
     "output_type": "execute_result"
    }
   ],
   "source": [
    "# se usa stratified kfold con los datos de entrenamiento para evaluar el modelo\n",
    "from sklearn.model_selection import KFold, StratifiedKFold\n",
    "\n",
    "def auc_roc_metric(modelo, X_train, y_train, n_splits = 5, imprimir_resultados = False):\n",
    "\n",
    "    kf = StratifiedKFold(n_splits=5)\n",
    "    auc_scores = []\n",
    "    for fold_idx, (train_index, test_index) in enumerate(kf.split(X_train.values, y_train.values)):\n",
    "#         modelo3 = Modelo3()\n",
    "        modelo.fit(X_train.loc[train_index], y_train.loc[train_index])\n",
    "\n",
    "        auc_score = metrics.roc_auc_score(y_train.loc[test_index], modelo.predict_proba(X_train.loc[test_index])[:,1])\n",
    "        auc_scores.append(auc_score)\n",
    "\n",
    "    if (imprimir_resultados): \n",
    "        i = 0\n",
    "        for auc_score in auc_scores:\n",
    "            print(f\"    fold {i}: {auc_score:.4f}\")\n",
    "            i += 1\n",
    "        print(f\"ROC AUC SCORE media: {np.mean(auc_scores):.4f}\")\n",
    "    \n",
    "    return np.mean(auc_scores)\n",
    "auc_roc_metric(Modelo3(), X_train, y_train)"
   ]
  },
  {
   "cell_type": "code",
   "execution_count": null,
   "id": "bb24c061",
   "metadata": {},
   "outputs": [],
   "source": []
  }
 ],
 "metadata": {
  "kernelspec": {
   "display_name": "Python 3",
   "language": "python",
   "name": "python3"
  },
  "language_info": {
   "codemirror_mode": {
    "name": "ipython",
    "version": 3
   },
   "file_extension": ".py",
   "mimetype": "text/x-python",
   "name": "python",
   "nbconvert_exporter": "python",
   "pygments_lexer": "ipython3",
   "version": "3.9.5"
  }
 },
 "nbformat": 4,
 "nbformat_minor": 5
}
