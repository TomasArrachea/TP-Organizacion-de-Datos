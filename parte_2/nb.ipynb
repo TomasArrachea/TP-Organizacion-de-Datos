{
 "cells": [
  {
   "cell_type": "markdown",
   "id": "ebb9e7b8",
   "metadata": {},
   "source": [
    "# Modelos usando el algoritmo de Naive Bayes"
   ]
  },
  {
   "cell_type": "markdown",
   "id": "67d2dbb1",
   "metadata": {},
   "source": [
    "## Importación de bibliotecas"
   ]
  },
  {
   "cell_type": "code",
   "execution_count": 1,
   "id": "4da7d15e",
   "metadata": {},
   "outputs": [],
   "source": [
    "import pandas as pd\n",
    "import numpy as np\n",
    "import preprocessing\n",
    "\n",
    "from sklearn.naive_bayes import MultinomialNB\n",
    "from sklearn.naive_bayes import GaussianNB\n",
    "\n",
    "from sklearn.model_selection import RandomizedSearchCV\n",
    "\n",
    "from sklearn.base import BaseEstimator, ClassifierMixin\n",
    "\n",
    "from sklearn.metrics import accuracy_score, precision_score, roc_curve, f1_score, recall_score, plot_confusion_matrix, auc\n",
    "\n",
    "import seaborn as sns\n",
    "from matplotlib import pyplot as plt\n",
    "sns.set()"
   ]
  },
  {
   "cell_type": "code",
   "execution_count": 2,
   "id": "a106bfc7",
   "metadata": {},
   "outputs": [],
   "source": [
    "GSPREADHSEET_DOWNLOAD_URL = (\n",
    "    \"https://docs.google.com/spreadsheets/d/{gid}/export?format=csv&id={gid}\".format\n",
    ")\n",
    "\n",
    "FIUFIP_2021_1_GID = '1-DWTP8uwVS-dZY402-dm0F9ICw_6PNqDGLmH0u8Eqa0'\n",
    "df = pd.read_csv(GSPREADHSEET_DOWNLOAD_URL(gid=FIUFIP_2021_1_GID))"
   ]
  },
  {
   "cell_type": "markdown",
   "id": "9b66b07f",
   "metadata": {},
   "source": [
    "## Llamado a funciones de preprocesamiento"
   ]
  },
  {
   "cell_type": "code",
   "execution_count": 3,
   "id": "21287248",
   "metadata": {},
   "outputs": [],
   "source": [
    "df = preprocessing.remove_irrelevant_features(df)\n",
    "df = preprocessing.missings_treatment(df)\n",
    "df = preprocessing.one_hot_encodding(df)\n",
    "\n",
    "# Se separa el dataset en entrenamiento y holdout\n",
    "X_train, X_holdout, y_train, y_holdout = preprocessing.dataset_split(df)"
   ]
  },
  {
   "cell_type": "markdown",
   "id": "a0882ad0",
   "metadata": {},
   "source": [
    "## Funciones para gráficos"
   ]
  },
  {
   "cell_type": "code",
   "execution_count": 4,
   "id": "003de573",
   "metadata": {},
   "outputs": [],
   "source": [
    "def plot_roc(modelo, X, y):\n",
    "\n",
    "    fpr, tpr, thresholds = roc_curve(y, modelo.predict_proba(X)[:,1]) # aca le paso las probabilidades en vez de y_pred, es lo mas recomendado\n",
    "    \n",
    "    roc_auc = auc(fpr, tpr)\n",
    "\n",
    "    plt.figure(figsize=(15, 10))\n",
    "    plt.plot(fpr, tpr, color='darkorange', lw=2, label=f'ROC curve (area = {roc_auc:.2f})')\n",
    "    plt.plot([0, 1], [0, 1], color='navy', lw=2, linestyle='--')\n",
    "    plt.xlim([0.0, 1.0])\n",
    "    plt.ylim([0.0, 1.05])\n",
    "    plt.xlabel('False Positive Rate')\n",
    "    plt.ylabel('True Positive Rate')\n",
    "    plt.title('Receiver operating characteristic')\n",
    "    plt.legend(loc=\"lower right\")\n",
    "    plt.show()"
   ]
  },
  {
   "cell_type": "code",
   "execution_count": 5,
   "id": "5e25e3e5",
   "metadata": {},
   "outputs": [],
   "source": [
    "def plot_matriz_de_confusion(modelo, X, y):\n",
    "    \n",
    "    fig, ax = plt.subplots(figsize=(15, 7))\n",
    "    plt.grid(False)\n",
    "    plot_confusion_matrix(modelo, X, y, cmap=plt.cm.Blues, display_labels=['1', '0'], ax=ax)\n",
    "    plt.title('Matriz de confusion')\n",
    "    plt.show()"
   ]
  },
  {
   "cell_type": "markdown",
   "id": "90bdee8a",
   "metadata": {},
   "source": [
    "## Modelos"
   ]
  },
  {
   "cell_type": "markdown",
   "id": "5a15ebea",
   "metadata": {},
   "source": [
    "### Modelo 1\n",
    "- se tratan todos los features como continuos"
   ]
  },
  {
   "cell_type": "code",
   "execution_count": null,
   "id": "9f26388a",
   "metadata": {},
   "outputs": [],
   "source": [
    "modelo1 = GaussianNB()\n",
    "\n",
    "smoothing = np.array([1e-10, 1e-09, 1e-08, 1e-07, 1e-06, 1e-05,1e-04, 1e-03, 1e-02, 1e-01, 1])\n",
    "params = {'var_smoothing': smoothing}\n",
    "\n",
    "\n",
    "rscv = RandomizedSearchCV(\n",
    "    modelo1, params, n_iter=11, scoring='roc_auc', n_jobs=-1, cv=5, return_train_score=True\n",
    ").fit(X_train, y_train)\n",
    "\n",
    "print(\"Resultados modelo 1\")\n",
    "print(f\"    Mejores hiperparámetros: {rscv.best_params_}\")\n",
    "print(f\"    Métrica AUC ROC: {rscv.best_score_}\")\n",
    "\n",
    "modelo1 = rscv.best_estimator_"
   ]
  },
  {
   "cell_type": "markdown",
   "id": "a4c72af8",
   "metadata": {},
   "source": [
    "### Modelo 2\n",
    "- se tratan todos los features como discretos \n",
    "- se descarta el feature ganancia_perdida_declarada_bolsa_argentina ya que toma demasiados valores y ademas tiene valores negativos que no son válidos para el algoritmo"
   ]
  },
  {
   "cell_type": "code",
   "execution_count": null,
   "id": "560de537",
   "metadata": {},
   "outputs": [],
   "source": [
    "X_train_m = X_train.drop('ganancia_perdida_declarada_bolsa_argentina', axis='columns')\n",
    "\n",
    "modelo2 = MultinomialNB()\n",
    "\n",
    "smoothing = np.array([1e-10, 1e-09, 1e-08, 1e-07, 1e-06, 1e-05,1e-04, 1e-03, 1e-02, 1e-01, 1])\n",
    "params = {'alpha': smoothing}\n",
    "\n",
    "rscv = RandomizedSearchCV(\n",
    "    modelo2, params, n_iter=11, scoring='roc_auc', n_jobs=-1, cv=5, return_train_score=True\n",
    ").fit(X_train_m, y_train)\n",
    "\n",
    "print(\"Resultados modelo 2\")\n",
    "print(f\"    Mejores hiperparámetros: {rscv.best_params_}\")\n",
    "print(f\"    Métrica AUC ROC: {rscv.best_score_}\")\n",
    "\n",
    "modelo2 = rscv.best_estimator_"
   ]
  },
  {
   "cell_type": "markdown",
   "id": "1caf275d",
   "metadata": {},
   "source": [
    "### Modelo 3\n",
    "- se usa una combinación de naive bayes multinomial y gaussiano\n",
    "- primero se debe construir una clase estimador siguiendo las reglas de sklearn por cuestiones de compatibilidad"
   ]
  },
  {
   "cell_type": "code",
   "execution_count": null,
   "id": "5933b0f3",
   "metadata": {},
   "outputs": [],
   "source": [
    "class Modelo3(BaseEstimator, ClassifierMixin):\n",
    "    def __init__(self, var_smoothing=1e-09, alpha=1): \n",
    "        self.var_smoothing = var_smoothing \n",
    "        self.alpha = alpha\n",
    "        \n",
    "    def fit(self, X_train, y_train):\n",
    "\n",
    "        self._gnb = GaussianNB(var_smoothing = self.var_smoothing)\n",
    "        self._mnb = MultinomialNB(alpha=self.alpha)\n",
    "        \n",
    "        X_train_g = X_train[['ganancia_perdida_declarada_bolsa_argentina']]\n",
    "        X_train_m = X_train.drop('ganancia_perdida_declarada_bolsa_argentina', axis='columns')\n",
    "\n",
    "        self._gnb.fit(X_train_g, y_train)\n",
    "        self._mnb.fit(X_train_m, y_train)\n",
    "\n",
    "        X_train_proba_g = pd.DataFrame(self._gnb.predict_proba(X_train_g)).drop(0, axis='columns')\n",
    "        X_train_proba_m = pd.DataFrame(self._mnb.predict_proba(X_train_m)).drop(0, axis='columns')\n",
    "\n",
    "        # se construye el dataframe de probabilidades con los datos de entrenamiento\n",
    "        X_train_proba = pd.DataFrame()\n",
    "        X_train_proba['1_gaussian'] = X_train_proba_g[1]\n",
    "        X_train_proba['1_multinomial'] = X_train_proba_m[1]\n",
    "\n",
    "        # se aplica naive bayes gaussiano al dataframe de probabilidades\n",
    "        self._gnb_proba = GaussianNB().fit(X_train_proba, y_train)\n",
    "        return self\n",
    "\n",
    "    def predict(self, X_pred):\n",
    "        X_pred_proba = self._construir_instancias_de_probabilidades(X_pred)\n",
    "        return self._gnb_proba.predict(X_pred_proba)\n",
    "    \n",
    "    def predict_proba(self, X_pred):\n",
    "        X_pred_proba = self._construir_instancias_de_probabilidades(X_pred)\n",
    "        return self._gnb_proba.predict_proba(X_pred_proba)\n",
    "\n",
    "    def _construir_instancias_de_probabilidades(self, X_pred):\n",
    "        X_pred_g = X_pred[['ganancia_perdida_declarada_bolsa_argentina']]\n",
    "        X_pred_m = X_pred.drop('ganancia_perdida_declarada_bolsa_argentina', axis='columns')\n",
    "\n",
    "        # se aplica el modelo compuesto a los datos de validación y se obtiene la predicción\n",
    "        X_pred_proba_g = pd.DataFrame(self._gnb.predict_proba(X_pred_g)).drop(0, axis='columns')\n",
    "        X_pred_proba_m = pd.DataFrame(self._mnb.predict_proba(X_pred_m)).drop(0, axis='columns')\n",
    "        X_pred_proba = pd.DataFrame()\n",
    "        X_pred_proba['1_gaussian'] = X_pred_proba_g[1]\n",
    "        X_pred_proba['1_multinomial'] = X_pred_proba_m[1]\n",
    "        return X_pred_proba"
   ]
  },
  {
   "cell_type": "code",
   "execution_count": null,
   "id": "4f002415",
   "metadata": {},
   "outputs": [],
   "source": [
    "modelo3 = Modelo3()\n",
    "\n",
    "smoothing = np.array([1e-10, 1e-09, 1e-08, 1e-07, 1e-06, 1e-05,1e-04, 1e-03, 1e-02, 1e-01, 1])\n",
    "params = {'var_smoothing': smoothing, 'alpha': smoothing}\n",
    "\n",
    "rscv = RandomizedSearchCV(\n",
    "    modelo3, params, n_iter=60, scoring='roc_auc', n_jobs=-1, cv=5, return_train_score=True\n",
    ").fit(X_train, y_train)\n",
    "\n",
    "print(\"Resultados modelo 3\")\n",
    "print(f\"    Mejores hiperparámetros: {rscv.best_params_}\")\n",
    "print(f\"    Métrica AUC ROC: {rscv.best_score_}\")\n",
    "\n",
    "modelo3 = rscv.best_estimator_"
   ]
  },
  {
   "cell_type": "markdown",
   "id": "91a7f787",
   "metadata": {},
   "source": [
    "## Conclusion\n",
    "    En base a la metrica AUC-ROC se elige el modelo 1\n",
    "### Informe modelo 1 usando los datos del test_holdout"
   ]
  },
  {
   "cell_type": "code",
   "execution_count": null,
   "id": "9034f0c8",
   "metadata": {},
   "outputs": [],
   "source": [
    "y_pred = modelo1.predict(X_holdout)\n",
    "y_pred_proba = modelo1.predict_proba(X_holdout)\n",
    "\n",
    "print('Metricas:')\n",
    "print(f'    accuracy: {accuracy_score(y_holdout, y_pred)}')\n",
    "print(f'    precision: {precision_score(y_holdout, y_pred)}')\n",
    "print(f'    recall: {recall_score(y_holdout, y_pred, pos_label=0)}')\n",
    "print(f'    f1 score: {f1_score(y_holdout, y_pred)}')\n",
    "\n",
    "plot_matriz_de_confusion(modelo1, X_holdout, y_holdout)\n",
    "plot_roc(modelo1, X_holdout, y_holdout)"
   ]
  }
 ],
 "metadata": {
  "kernelspec": {
   "display_name": "Python 3",
   "language": "python",
   "name": "python3"
  },
  "language_info": {
   "codemirror_mode": {
    "name": "ipython",
    "version": 3
   },
   "file_extension": ".py",
   "mimetype": "text/x-python",
   "name": "python",
   "nbconvert_exporter": "python",
   "pygments_lexer": "ipython3",
   "version": "3.9.5"
  }
 },
 "nbformat": 4,
 "nbformat_minor": 5
}
