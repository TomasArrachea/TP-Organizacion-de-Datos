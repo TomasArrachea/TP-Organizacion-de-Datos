{
 "cells": [
  {
   "cell_type": "markdown",
   "id": "9dd75a64",
   "metadata": {},
   "source": [
    "# Naive Bayes"
   ]
  },
  {
   "cell_type": "code",
   "execution_count": 1,
   "id": "6fbf9905",
   "metadata": {},
   "outputs": [],
   "source": [
    "import pandas as pd\n",
    "import numpy as np\n",
    "import preprocessing\n",
    "from sklearn.naive_bayes import MultinomialNB\n",
    "from sklearn.naive_bayes import GaussianNB"
   ]
  },
  {
   "cell_type": "code",
   "execution_count": 2,
   "id": "a2a98be9",
   "metadata": {},
   "outputs": [],
   "source": [
    "GSPREADHSEET_DOWNLOAD_URL = (\n",
    "    \"https://docs.google.com/spreadsheets/d/{gid}/export?format=csv&id={gid}\".format\n",
    ")\n",
    "\n",
    "FIUFIP_2021_1_GID = '1-DWTP8uwVS-dZY402-dm0F9ICw_6PNqDGLmH0u8Eqa0'\n",
    "df = pd.read_csv(GSPREADHSEET_DOWNLOAD_URL(gid=FIUFIP_2021_1_GID))"
   ]
  },
  {
   "cell_type": "markdown",
   "id": "3c831da6",
   "metadata": {},
   "source": [
    "### Llamado a funciones de preprocesamiento"
   ]
  },
  {
   "cell_type": "code",
   "execution_count": 3,
   "id": "010a812b",
   "metadata": {},
   "outputs": [],
   "source": [
    "df = preprocessing.remove_irrelevant_features(df)\n",
    "df = preprocessing.missings_treatment(df)\n",
    "df = preprocessing.one_hot_encodding(df)"
   ]
  },
  {
   "cell_type": "markdown",
   "id": "b4c9c9b1",
   "metadata": {},
   "source": [
    "### Separacion de datos de entrenamiento para los tres modelos a estudiar"
   ]
  },
  {
   "cell_type": "code",
   "execution_count": 4,
   "id": "cc2ff1a3",
   "metadata": {},
   "outputs": [],
   "source": [
    "X_train, X_val, y_train, y_val = preprocessing.dataset_split(df)\n",
    "\n",
    "X_train_g = X_train[['ganancia_perdida_declarada_bolsa_argentina']]\n",
    "X_val_g = X_val[['ganancia_perdida_declarada_bolsa_argentina']]\n",
    "\n",
    "X_train_m = X_train.drop('ganancia_perdida_declarada_bolsa_argentina', axis='columns')\n",
    "X_val_m = X_val.drop('ganancia_perdida_declarada_bolsa_argentina', axis='columns')"
   ]
  },
  {
   "cell_type": "markdown",
   "id": "828d4e35",
   "metadata": {},
   "source": [
    "## Modelos"
   ]
  },
  {
   "cell_type": "markdown",
   "id": "4378ac83",
   "metadata": {},
   "source": [
    "### Modelo 1\n",
    "- se tratan todos los features como continuos"
   ]
  },
  {
   "cell_type": "code",
   "execution_count": 5,
   "id": "91561dea",
   "metadata": {},
   "outputs": [
    {
     "name": "stdout",
     "output_type": "stream",
     "text": [
      "7633 de 9769 predicciones correctas\n"
     ]
    }
   ],
   "source": [
    "gnb = GaussianNB().fit(X_train, y_train)\n",
    "\n",
    "y_pred = gnb.predict(X_val)\n",
    "print(f\"{np.sum(y_pred == y_val)} de {len(X_val)} predicciones correctas\")"
   ]
  },
  {
   "cell_type": "markdown",
   "id": "ea97dbe0",
   "metadata": {},
   "source": [
    "### Modelo 2, tratar todos los features como discretos \n",
    "- se descarta el feature ganancia_perdida_declarada_bolsa_argentina ya que toma demasiados valores y ademas tiene valores negativos que no son validos para el algoritmo"
   ]
  },
  {
   "cell_type": "code",
   "execution_count": 6,
   "id": "afaa10ba",
   "metadata": {},
   "outputs": [
    {
     "name": "stdout",
     "output_type": "stream",
     "text": [
      "7366 de 9769 predicciones correctas\n"
     ]
    }
   ],
   "source": [
    "mnb = MultinomialNB().fit(X_train_m, y_train)\n",
    "\n",
    "y_pred = mnb.predict(X_val_m)\n",
    "\n",
    "print(f\"{np.sum(y_pred == y_val)} de {len(X_val_m)} predicciones correctas\")"
   ]
  },
  {
   "cell_type": "markdown",
   "id": "a58b1545",
   "metadata": {},
   "source": [
    "### Modelo 3\n",
    "- se usa una combinación de naive bayes multinomial y gaussiano"
   ]
  },
  {
   "cell_type": "code",
   "execution_count": 7,
   "id": "ca3d2724",
   "metadata": {},
   "outputs": [
    {
     "name": "stdout",
     "output_type": "stream",
     "text": [
      "7761 de 9769 predicciones correctas\n"
     ]
    }
   ],
   "source": [
    "gnb = GaussianNB().fit(X_train_g, y_train)\n",
    "mnb = MultinomialNB().fit(X_train_m, y_train)\n",
    "\n",
    "X_train_proba_g = pd.DataFrame(gnb.predict_proba(X_train_g)).drop(0, axis='columns')\n",
    "X_train_proba_m = pd.DataFrame(mnb.predict_proba(X_train_m)).drop(0, axis='columns')\n",
    "\n",
    "# se construye el dataframe de probabilidades con los datos de entrenamiento\n",
    "X_train_proba = pd.DataFrame()\n",
    "X_train_proba['1_gaussian'] = X_train_proba_g[1]\n",
    "X_train_proba['1_multinomial'] = X_train_proba_m[1]\n",
    "\n",
    "# se aplica naive bayes gaussiano al dataframe de probabilidades\n",
    "gnb_proba = GaussianNB().fit(X_train_proba, y_train)\n",
    "\n",
    "# se aplica el modelo compuesto a los datos de validación y se obtiene la predicción\n",
    "X_val_proba_g = pd.DataFrame(gnb.predict_proba(X_val_g)).drop(0, axis='columns')\n",
    "X_val_proba_m = pd.DataFrame(mnb.predict_proba(X_val_m)).drop(0, axis='columns')\n",
    "X_val_proba = pd.DataFrame()\n",
    "X_val_proba['1_gaussian'] = X_val_proba_g[1]\n",
    "X_val_proba['1_multinomial'] = X_val_proba_m[1]\n",
    "y_pred = gnb_proba.predict(X_val_proba)\n",
    "\n",
    "print(f\"{np.sum(y_pred == y_val)} de {len(X_val_proba)} predicciones correctas\")"
   ]
  }
 ],
 "metadata": {
  "kernelspec": {
   "display_name": "Python 3",
   "language": "python",
   "name": "python3"
  },
  "language_info": {
   "codemirror_mode": {
    "name": "ipython",
    "version": 3
   },
   "file_extension": ".py",
   "mimetype": "text/x-python",
   "name": "python",
   "nbconvert_exporter": "python",
   "pygments_lexer": "ipython3",
   "version": "3.9.5"
  }
 },
 "nbformat": 4,
 "nbformat_minor": 5
}
