{
 "cells": [
  {
   "cell_type": "code",
   "execution_count": 18,
   "id": "c9967757",
   "metadata": {},
   "outputs": [
    {
     "ename": "ModuleNotFoundError",
     "evalue": "No module named 'preprocessing'",
     "output_type": "error",
     "traceback": [
      "\u001b[0;31m---------------------------------------------------------------------------\u001b[0m",
      "\u001b[0;31mModuleNotFoundError\u001b[0m                       Traceback (most recent call last)",
      "\u001b[0;32m<ipython-input-18-2c304a6d655c>\u001b[0m in \u001b[0;36m<module>\u001b[0;34m\u001b[0m\n\u001b[1;32m      3\u001b[0m \u001b[0;32mimport\u001b[0m \u001b[0mpandas\u001b[0m \u001b[0;32mas\u001b[0m \u001b[0mpd\u001b[0m\u001b[0;34m\u001b[0m\u001b[0;34m\u001b[0m\u001b[0m\n\u001b[1;32m      4\u001b[0m \u001b[0;32mimport\u001b[0m \u001b[0mnumpy\u001b[0m \u001b[0;32mas\u001b[0m \u001b[0mnp\u001b[0m\u001b[0;34m\u001b[0m\u001b[0;34m\u001b[0m\u001b[0m\n\u001b[0;32m----> 5\u001b[0;31m \u001b[0;32mimport\u001b[0m \u001b[0mpreprocessing\u001b[0m\u001b[0;34m\u001b[0m\u001b[0;34m\u001b[0m\u001b[0m\n\u001b[0m",
      "\u001b[0;31mModuleNotFoundError\u001b[0m: No module named 'preprocessing'"
     ]
    }
   ],
   "source": [
    "from sklearn.model_selection import train_test_split\n",
    "from sklearn import preprocessing as preproc \n",
    "import pandas as pd\n",
    "import numpy as np\n",
    "import preprocessing"
   ]
  },
  {
   "cell_type": "code",
   "execution_count": 2,
   "id": "1d0081dc",
   "metadata": {},
   "outputs": [],
   "source": [
    "GSPREADHSEET_DOWNLOAD_URL = (\n",
    "    \"https://docs.google.com/spreadsheets/d/{gid}/export?format=csv&id={gid}\".format\n",
    ")\n",
    "\n",
    "FIUFIP_2021_1_GID = '1-DWTP8uwVS-dZY402-dm0F9ICw_6PNqDGLmH0u8Eqa0'\n",
    "df = pd.read_csv(GSPREADHSEET_DOWNLOAD_URL(gid=FIUFIP_2021_1_GID))"
   ]
  },
  {
   "cell_type": "code",
   "execution_count": 3,
   "id": "3aac3bce",
   "metadata": {},
   "outputs": [],
   "source": [
    "# Preprocesamiento\n",
    "\n",
    "# se quitan features no utiles\n",
    "\n",
    "df = remove_irrelevant_features(df)\n",
    "# df.drop('educacion_alcanzada', axis='columns', inplace = True)\n",
    "# df.drop('barrio', axis='columns', inplace = True)\n",
    "\n",
    "df = missings_treatment(df)\n",
    "# df['categoria_de_trabajo'] = df['categoria_de_trabajo'].replace(np.nan, 'sin_informar')\n",
    "# df['trabajo'] = df['trabajo'].replace(np.nan, 'sin_informar')\n",
    "# df.loc[df['categoria_de_trabajo'] == 'sin_trabajo', ['trabajo']] = 'sin_trabajo'"
   ]
  },
  {
   "cell_type": "code",
   "execution_count": 5,
   "id": "c005ec34",
   "metadata": {},
   "outputs": [],
   "source": [
    "# se aplica one hot encoding (menos 1) para convertir las variables categoricas\n",
    "\n",
    "df = one_hot_encodding(df)"
   ]
  },
  {
   "cell_type": "code",
   "execution_count": 7,
   "id": "330394ba",
   "metadata": {},
   "outputs": [],
   "source": [
    "# separo en set de entrenamiento y set de validacion usando la biblioteca model_selection de sklearn\n",
    "\n",
    "X_train, X_val, y_train, y_val = dataset_split(df)"
   ]
  },
  {
   "cell_type": "code",
   "execution_count": 8,
   "id": "20d520f8",
   "metadata": {},
   "outputs": [
    {
     "name": "stdout",
     "output_type": "stream",
     "text": [
      "8303 predicciones correctas de 9769\n"
     ]
    }
   ],
   "source": [
    "# ejemplo knn (1er ejemplo - le pase los valores numericos sin modificar)\n",
    "\n",
    "# importo la biblioteca\n",
    "from sklearn.neighbors import KNeighborsClassifier\n",
    "\n",
    "# construyo el modelo\n",
    "knn = KNeighborsClassifier(n_neighbors=20, weights= 'uniform')  # se usa un numero especifico de vecinos (20), pero esto es un HIPERPARAMETRO \n",
    "knn.fit(X_train, y_train)\n",
    "\n",
    "\n",
    "# lo uso para predecir\n",
    "y_pred = knn.predict(X_val)\n",
    "\n",
    "# comparo los resultados\n",
    "print(f\"{np.sum(y_val == y_pred)} predicciones correctas de {len(y_val)}\")"
   ]
  },
  {
   "cell_type": "code",
   "execution_count": 9,
   "id": "650c0893",
   "metadata": {},
   "outputs": [
    {
     "data": {
      "text/plain": [
       "array([1.78121298e-03, 6.16573725e-03, 9.99945565e-01, 8.22098299e-03,\n",
       "       0.00000000e+00, 0.00000000e+00, 0.00000000e+00, 1.37016383e-04,\n",
       "       0.00000000e+00, 0.00000000e+00, 0.00000000e+00, 0.00000000e+00,\n",
       "       1.37016383e-04, 0.00000000e+00, 0.00000000e+00, 0.00000000e+00,\n",
       "       0.00000000e+00, 0.00000000e+00, 0.00000000e+00, 0.00000000e+00,\n",
       "       1.37016383e-04, 0.00000000e+00, 0.00000000e+00, 1.37016383e-04,\n",
       "       0.00000000e+00, 0.00000000e+00, 0.00000000e+00, 0.00000000e+00,\n",
       "       0.00000000e+00, 0.00000000e+00, 0.00000000e+00, 0.00000000e+00,\n",
       "       0.00000000e+00, 0.00000000e+00, 1.37016383e-04, 0.00000000e+00,\n",
       "       0.00000000e+00, 0.00000000e+00, 0.00000000e+00, 0.00000000e+00,\n",
       "       0.00000000e+00, 0.00000000e+00, 0.00000000e+00])"
      ]
     },
     "execution_count": 9,
     "metadata": {},
     "output_type": "execute_result"
    }
   ],
   "source": [
    "# normalizo usando preprocessing de sklearn\n",
    "\n",
    "normalizer = preprocessing.Normalizer()\n",
    "X_train_n = normalizer.fit(X_train).transform(X_train)\n",
    "X_val_n = normalizer.fit(X_val).transform(X_val)\n",
    "X_train_n[0]"
   ]
  },
  {
   "cell_type": "code",
   "execution_count": 10,
   "id": "6c8e4296",
   "metadata": {},
   "outputs": [
    {
     "name": "stdout",
     "output_type": "stream",
     "text": [
      "8068 predicciones correctas de 9769\n"
     ]
    }
   ],
   "source": [
    "# pruebo usando los valores normalizados, pero da ligeramente peor, da mejor sin eso, al menos con 20 vecinos.\n",
    "\n",
    "# construyo el modelo\n",
    "knn = KNeighborsClassifier(n_neighbors=20, weights= 'uniform')  # se usa un numero especifico de vecinos (20), pero esto es un HIPERPARAMETRO \n",
    "knn.fit(X_train_n, y_train)\n",
    "\n",
    "\n",
    "# lo uso para predecir\n",
    "y_pred = knn.predict(X_val_n)\n",
    "\n",
    "# comparo los resultados\n",
    "print(f\"{np.sum(y_val == y_pred)} predicciones correctas de {len(y_val)}\")"
   ]
  },
  {
   "cell_type": "code",
   "execution_count": 12,
   "id": "ff646426",
   "metadata": {},
   "outputs": [
    {
     "name": "stdout",
     "output_type": "stream",
     "text": [
      "8272 predicciones correctas de 9769\n"
     ]
    }
   ],
   "source": [
    "# pruebo usando la funcion distancia, tambien da peor, al menos con 20 vecinos.\n",
    "\n",
    "knn = KNeighborsClassifier(n_neighbors=20, weights= 'distance')  # se usa un numero especifico de vecinos (20), pero esto es un HIPERPARAMETRO \n",
    "knn.fit(X_train, y_train)\n",
    "\n",
    "\n",
    "# lo uso para predecir\n",
    "y_pred = knn.predict(X_val)\n",
    "\n",
    "# comparo los resultados\n",
    "print(f\"{np.sum(y_val == y_pred)} predicciones correctas de {len(y_val)}\")"
   ]
  },
  {
   "cell_type": "code",
   "execution_count": null,
   "id": "1406ae65",
   "metadata": {},
   "outputs": [],
   "source": [
    "# falta generalizar las busquedas de la mejor combinacion de features + hiperparametros y ver graficos"
   ]
  }
 ],
 "metadata": {
  "kernelspec": {
   "display_name": "Python 3",
   "language": "python",
   "name": "python3"
  },
  "language_info": {
   "codemirror_mode": {
    "name": "ipython",
    "version": 3
   },
   "file_extension": ".py",
   "mimetype": "text/x-python",
   "name": "python",
   "nbconvert_exporter": "python",
   "pygments_lexer": "ipython3",
   "version": "3.9.5"
  }
 },
 "nbformat": 4,
 "nbformat_minor": 5
}
