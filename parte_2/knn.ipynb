{
 "cells": [
  {
   "cell_type": "markdown",
   "id": "b18377ab",
   "metadata": {},
   "source": [
    "# Modelos usando el algoritmo de vecinos más cercanos (KNN)"
   ]
  },
  {
   "cell_type": "markdown",
   "id": "953cb506",
   "metadata": {},
   "source": [
    "### Importación de bibliotecas"
   ]
  },
  {
   "cell_type": "code",
   "execution_count": 10,
   "id": "a6784984",
   "metadata": {},
   "outputs": [],
   "source": [
    "from sklearn.base import BaseEstimator, ClassifierMixin\n",
    "\n",
    "from sklearn.model_selection import train_test_split\n",
    "import sklearn as skl\n",
    "\n",
    "from sklearn.neighbors import KNeighborsClassifier\n",
    "\n",
    "from sklearn.model_selection import RandomizedSearchCV\n",
    "\n",
    "import pandas as pd\n",
    "import numpy as np\n",
    "import preprocessing\n",
    "import informe"
   ]
  },
  {
   "cell_type": "code",
   "execution_count": 11,
   "id": "fe010d6e",
   "metadata": {},
   "outputs": [],
   "source": [
    "GSPREADHSEET_DOWNLOAD_URL = (\n",
    "    \"https://docs.google.com/spreadsheets/d/{gid}/export?format=csv&id={gid}\".format\n",
    ")\n",
    "\n",
    "FIUFIP_2021_1_GID = '1-DWTP8uwVS-dZY402-dm0F9ICw_6PNqDGLmH0u8Eqa0'\n",
    "df = pd.read_csv(GSPREADHSEET_DOWNLOAD_URL(gid=FIUFIP_2021_1_GID))"
   ]
  },
  {
   "cell_type": "markdown",
   "id": "ee000662",
   "metadata": {},
   "source": [
    "### Llamado a funciones de preprocesamiento\n",
    "- Dada la alta complejidad espacial del algortimo de knn, se realizará el entrenamiento con el 20% de los datos y la validación final con el 80% "
   ]
  },
  {
   "cell_type": "code",
   "execution_count": 12,
   "id": "03f3e4f1",
   "metadata": {},
   "outputs": [],
   "source": [
    "df = preprocessing.remove_irrelevant_features(df)\n",
    "df = preprocessing.missings_treatment(df)\n",
    "df = preprocessing.one_hot_encodding(df)\n",
    "X = df.drop('tiene_alto_valor_adquisitivo', axis='columns')\n",
    "\n",
    "# Se separa el dataset en entrenamiento y holdout\n",
    "y = df.tiene_alto_valor_adquisitivo\n",
    "X_train, X_holdout, y_train, y_holdout = preprocessing.dataset_split(X, y)"
   ]
  },
  {
   "cell_type": "markdown",
   "id": "3766a6ac",
   "metadata": {},
   "source": [
    "### Seteo de conjuntos de hiperparametros por los que se iterará en la busqueda de la mejor combinación"
   ]
  },
  {
   "cell_type": "code",
   "execution_count": 13,
   "id": "75e4247e",
   "metadata": {},
   "outputs": [],
   "source": [
    "n_neighbors = range(10,36)\n",
    "weights = ['uniform', 'distance']\n",
    "metric = ['minkowski', 'cosine']\n",
    "params = {'weights': weights, 'metric': metric, 'n_neighbors': n_neighbors}"
   ]
  },
  {
   "cell_type": "markdown",
   "id": "62cbbdb0",
   "metadata": {},
   "source": [
    "### Modelos"
   ]
  },
  {
   "cell_type": "markdown",
   "id": "fd740364",
   "metadata": {},
   "source": [
    "#### Modelo 1\n",
    "- Se usan todos los features, en su forma numérica, sin modificar"
   ]
  },
  {
   "cell_type": "code",
   "execution_count": null,
   "id": "8409834c",
   "metadata": {},
   "outputs": [],
   "source": [
    "modelo1 = KNeighborsClassifier()\n",
    "\n",
    "rscv = RandomizedSearchCV(\n",
    "    modelo1, params, n_iter=35, scoring='roc_auc', n_jobs=-1, cv=5, return_train_score=True\n",
    ").fit(X_train, y_train)\n",
    "\n",
    "informe.imprimir_metricas(rscv, X_train, y_train, nombre = \"modelo 1\")\n",
    "\n",
    "modelo1 = rscv.best_estimator_"
   ]
  },
  {
   "cell_type": "markdown",
   "id": "f0046488",
   "metadata": {},
   "source": [
    "#### Modelo 2\n",
    "- Se usan todos los features normalizados,\n",
    "- para eso, se construye una clase estimadora siguiendo las reglas de sklearn por cuestiones de compatibilidad"
   ]
  },
  {
   "cell_type": "code",
   "execution_count": 16,
   "id": "a52dc01f",
   "metadata": {},
   "outputs": [],
   "source": [
    "# construyo un estmiador con las reglas de sklearn\n",
    "class KNN_normalizado(BaseEstimator, ClassifierMixin):\n",
    "    def __init__(self, n_neighbors=5, weights='uniform', metric='minkowski'): \n",
    "        self.n_neighbors = n_neighbors\n",
    "        self.weights = weights\n",
    "        self.metric = metric\n",
    "        \n",
    "    def fit(self, X_train, y_train):\n",
    "\n",
    "        self.normalizer = skl.preprocessing.Normalizer()\n",
    "        X_train_n = self.normalizer.fit(X_train).transform(X_train)\n",
    "\n",
    "        self.knn = KNeighborsClassifier(n_neighbors = self.n_neighbors, weights = self.weights, metric = self.metric) \n",
    "        self.knn.fit(X_train_n, y_train)\n",
    "\n",
    "        return self\n",
    "\n",
    "    def predict(self, X_pred):\n",
    "        X_pred_n = self.normalizer.transform(X_pred)\n",
    "        return self.knn.predict(X_pred_n)\n",
    "    \n",
    "    def predict_proba(self, X_pred):\n",
    "        X_pred_n = self.normalizer.transform(X_pred)\n",
    "        return self.knn.predict_proba(X_pred_n)"
   ]
  },
  {
   "cell_type": "code",
   "execution_count": null,
   "id": "9362ae78",
   "metadata": {},
   "outputs": [],
   "source": [
    "modelo2 = KNN_normalizado()\n",
    "\n",
    "rscv = RandomizedSearchCV(\n",
    "    modelo2, params, n_iter=35, scoring='roc_auc', n_jobs=-1, cv=5, return_train_score=True\n",
    ").fit(X_train, y_train)\n",
    "\n",
    "informe.imprimir_metricas(rscv, X_train, y_train, nombre = \"modelo 2\")\n",
    "\n",
    "modelo2 = rscv.best_estimator_"
   ]
  },
  {
   "cell_type": "markdown",
   "id": "9c2a12f3",
   "metadata": {},
   "source": [
    "#### Modelo 3\n",
    "- El algoritmo de knn es afectado por features irrelevantes, se propone entonces aplicar alguna técnica de reducción dimensional\n",
    "- Con los features relevantes, se construye un modelo análogo al modelo 1, es decir con los features sin normalizar"
   ]
  },
  {
   "cell_type": "code",
   "execution_count": 14,
   "id": "dce9c13f",
   "metadata": {},
   "outputs": [
    {
     "name": "stdout",
     "output_type": "stream",
     "text": [
      "Features totales: 43\n",
      "Features relevantes: 4\n"
     ]
    }
   ],
   "source": [
    "print(f'Features totales: {len(X_train.columns)}')\n",
    "\n",
    "X_train_c = X_train.copy()\n",
    "features_relevantes = preprocessing.embedded(X_train_c, y_train).columns\n",
    "\n",
    "print(f'Features relevantes: {len(features_relevantes)}')\n",
    "\n",
    "X_train_reducido = X_train[features_relevantes]\n",
    "X_holdout_reducido = X_holdout[features_relevantes]"
   ]
  },
  {
   "cell_type": "code",
   "execution_count": null,
   "id": "fb82ed9a",
   "metadata": {},
   "outputs": [],
   "source": [
    "modelo3 = KNeighborsClassifier()\n",
    "\n",
    "rscv = RandomizedSearchCV(\n",
    "    modelo3, params, n_iter=35, scoring='roc_auc', n_jobs=-1, cv=5, return_train_score=True\n",
    ").fit(X_train_reducido, y_train)\n",
    "\n",
    "informe.imprimir_metricas(rscv, X_train_reducido, y_train, nombre = \"modelo 3\")\n",
    "\n",
    "modelo3 = rscv.best_estimator_"
   ]
  },
  {
   "cell_type": "markdown",
   "id": "0b2027cc",
   "metadata": {},
   "source": [
    "#### Modelo 4\n",
    "- Con los features relevantes, se construye un modelo análogo al modelo 2, es decir con los features normalizados"
   ]
  },
  {
   "cell_type": "code",
   "execution_count": null,
   "id": "1dbad20b",
   "metadata": {},
   "outputs": [],
   "source": [
    "modelo4 = KNN_normalizado()\n",
    "\n",
    "rscv = RandomizedSearchCV(\n",
    "    modelo4, params, n_iter=35, scoring='roc_auc', n_jobs=-1, cv=5, return_train_score=True\n",
    ").fit(X_train_reducido, y_train)\n",
    "\n",
    "informe.imprimir_metricas(rscv, X_train_reducido, y_train, nombre = \"modelo 4\")\n",
    "\n",
    "modelo4 = rscv.best_estimator_"
   ]
  },
  {
   "cell_type": "markdown",
   "id": "1455d6a7",
   "metadata": {},
   "source": [
    "### Conclusión\n",
    "      En base a la metrica AUC-ROC se elige el modelo 3\n",
    "      \n",
    "### Informe del modelo 3 usando los datos del test_holdout"
   ]
  },
  {
   "cell_type": "code",
   "execution_count": null,
   "id": "44475e9f",
   "metadata": {},
   "outputs": [],
   "source": [
    "informe.imprimir_informe(modelo3, X_holdout_reducido, y_holdout)"
   ]
  },
  {
   "cell_type": "markdown",
   "id": "60fb7434",
   "metadata": {},
   "source": [
    "### Conclusiones de las métricas observadas de los datos de test_holdout\n",
    "\n",
    "- accuracy:\n",
    "\n",
    "        El modelo clasifica los datos de forma correcta en aproximadamente un 84%, viendo la distribucion de clases de la muestra se observa que el 0 es la clase mayoritaria con una proporción de aproximadamente 76%. Por lo tanto el modelo es mejor predictor que devolver siempre cero.\n",
    "    \n",
    "    \n",
    "- precisión:\n",
    "\n",
    "        La fracción de predicciones de 0's que realmente eran 0's fue de aproximadamente 87% y la fracción de predicciones de 1's que realmente eran 1's fue del 72% \n",
    "\n",
    "\n",
    "- recall:\n",
    "\n",
    "        Los 0's reales detectados fueron aproximadamente el 93%, y los 1's reales detectados fueron del 56%. Viendo este resultado en conjunto con la precisión, se entiende que el modelo es mejor prediciendo los 0's que los 1's \n",
    "\n",
    "\n",
    "- f1 score:\n",
    "   \n",
    "       La calidad del modelo es de 84% en terminos del recall y la precision asi como el balance entre ambas\n",
    "       \n",
    "       \n",
    "- matriz de confusion:\n",
    "\n",
    "        Se puede ver que las predicciones mayoritarias caen en la diagonal principal, lo cual es una buena caracteristica de una matriz de confusión. sin embargo para los 1's, las dos columnas estan demasiado balanceadas, lo cual ya se sabia ya que en el resultado de recall para los 1's no era muy bueno.\n",
    "        Aproximadamente el 84% de las instancias se encuentran en la diagonal principal, (lo cual ya sabiamos por el accuracy del 84%)\n",
    "        \n",
    "        \n",
    "- UAC ROC:\n",
    "\n",
    "        Esta métrica indica que el modelo es bueno distinguiendo clases en un 89%. Este valor será utilizado para decidir sobre la elección de este modelo.\n"
   ]
  },
  {
   "cell_type": "markdown",
   "id": "39a7b3f2",
   "metadata": {},
   "source": [
    "# Final test"
   ]
  },
  {
   "cell_type": "code",
   "execution_count": null,
   "id": "681072df",
   "metadata": {},
   "outputs": [],
   "source": [
    "df_test = informe.get_df_test()\n",
    "\n",
    "#preprocesamiento\n",
    "df_test = preprocessing.remove_irrelevant_features(df_test)\n",
    "df_test = preprocessing.missings_treatment(df_test)\n",
    "df_test = preprocessing.one_hot_encodding(df_test)\n",
    "\n",
    "y_pred = modelo3.predict(df_test)\n",
    "informe.save_pred(y_pred, 'knn')"
   ]
  }
 ],
 "metadata": {
  "kernelspec": {
   "display_name": "Python 3",
   "language": "python",
   "name": "python3"
  },
  "language_info": {
   "codemirror_mode": {
    "name": "ipython",
    "version": 3
   },
   "file_extension": ".py",
   "mimetype": "text/x-python",
   "name": "python",
   "nbconvert_exporter": "python",
   "pygments_lexer": "ipython3",
   "version": "3.8.5"
  }
 },
 "nbformat": 4,
 "nbformat_minor": 5
}
