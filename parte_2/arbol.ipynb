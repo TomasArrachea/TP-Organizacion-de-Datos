{
 "cells": [
  {
   "cell_type": "code",
   "execution_count": 1,
   "id": "c9a9dee3",
   "metadata": {},
   "outputs": [],
   "source": [
    "import pandas as pd\n",
    "import numpy as np\n",
    "import seaborn as sns\n",
    "from matplotlib import pyplot as plt\n",
    "sns.set()"
   ]
  },
  {
   "cell_type": "code",
   "execution_count": 2,
   "id": "fff04a18",
   "metadata": {},
   "outputs": [],
   "source": [
    "GSPREADHSEET_DOWNLOAD_URL = (\n",
    "    \"https://docs.google.com/spreadsheets/d/{gid}/export?format=csv&id={gid}\".format\n",
    ")\n",
    "\n",
    "FIUFIP_2021_1_GID = '1-DWTP8uwVS-dZY402-dm0F9ICw_6PNqDGLmH0u8Eqa0'\n",
    "df = pd.read_csv(GSPREADHSEET_DOWNLOAD_URL(gid=FIUFIP_2021_1_GID))"
   ]
  },
  {
   "cell_type": "code",
   "execution_count": 3,
   "id": "75a40aa8",
   "metadata": {},
   "outputs": [
    {
     "data": {
      "text/html": [
       "<div>\n",
       "<style scoped>\n",
       "    .dataframe tbody tr th:only-of-type {\n",
       "        vertical-align: middle;\n",
       "    }\n",
       "\n",
       "    .dataframe tbody tr th {\n",
       "        vertical-align: top;\n",
       "    }\n",
       "\n",
       "    .dataframe thead th {\n",
       "        text-align: right;\n",
       "    }\n",
       "</style>\n",
       "<table border=\"1\" class=\"dataframe\">\n",
       "  <thead>\n",
       "    <tr style=\"text-align: right;\">\n",
       "      <th></th>\n",
       "      <th>anios_estudiados</th>\n",
       "      <th>barrio</th>\n",
       "      <th>categoria_de_trabajo</th>\n",
       "      <th>edad</th>\n",
       "      <th>educacion_alcanzada</th>\n",
       "      <th>estado_marital</th>\n",
       "      <th>ganancia_perdida_declarada_bolsa_argentina</th>\n",
       "      <th>genero</th>\n",
       "      <th>horas_trabajo_registradas</th>\n",
       "      <th>religion</th>\n",
       "      <th>rol_familiar_registrado</th>\n",
       "      <th>tiene_alto_valor_adquisitivo</th>\n",
       "      <th>trabajo</th>\n",
       "    </tr>\n",
       "  </thead>\n",
       "  <tbody>\n",
       "    <tr>\n",
       "      <th>0</th>\n",
       "      <td>17</td>\n",
       "      <td>Palermo</td>\n",
       "      <td>empleado_provincial</td>\n",
       "      <td>39</td>\n",
       "      <td>universidad_3_anio</td>\n",
       "      <td>sin_matrimonio</td>\n",
       "      <td>2174</td>\n",
       "      <td>hombre</td>\n",
       "      <td>40</td>\n",
       "      <td>cristianismo</td>\n",
       "      <td>sin_familia</td>\n",
       "      <td>0</td>\n",
       "      <td>entretenimiento</td>\n",
       "    </tr>\n",
       "    <tr>\n",
       "      <th>1</th>\n",
       "      <td>17</td>\n",
       "      <td>Palermo</td>\n",
       "      <td>monotibutista</td>\n",
       "      <td>50</td>\n",
       "      <td>universidad_3_anio</td>\n",
       "      <td>matrimonio_civil</td>\n",
       "      <td>0</td>\n",
       "      <td>hombre</td>\n",
       "      <td>13</td>\n",
       "      <td>cristianismo</td>\n",
       "      <td>casado</td>\n",
       "      <td>0</td>\n",
       "      <td>directivo_gerente</td>\n",
       "    </tr>\n",
       "    <tr>\n",
       "      <th>2</th>\n",
       "      <td>13</td>\n",
       "      <td>Palermo</td>\n",
       "      <td>relacion_de_dependencia</td>\n",
       "      <td>38</td>\n",
       "      <td>4_anio</td>\n",
       "      <td>divorciado</td>\n",
       "      <td>0</td>\n",
       "      <td>hombre</td>\n",
       "      <td>40</td>\n",
       "      <td>cristianismo</td>\n",
       "      <td>sin_familia</td>\n",
       "      <td>0</td>\n",
       "      <td>limpiador</td>\n",
       "    </tr>\n",
       "    <tr>\n",
       "      <th>3</th>\n",
       "      <td>11</td>\n",
       "      <td>Palermo</td>\n",
       "      <td>relacion_de_dependencia</td>\n",
       "      <td>53</td>\n",
       "      <td>2_anio</td>\n",
       "      <td>matrimonio_civil</td>\n",
       "      <td>0</td>\n",
       "      <td>hombre</td>\n",
       "      <td>40</td>\n",
       "      <td>judaismo</td>\n",
       "      <td>casado</td>\n",
       "      <td>0</td>\n",
       "      <td>limpiador</td>\n",
       "    </tr>\n",
       "    <tr>\n",
       "      <th>4</th>\n",
       "      <td>17</td>\n",
       "      <td>Balvanera</td>\n",
       "      <td>relacion_de_dependencia</td>\n",
       "      <td>28</td>\n",
       "      <td>universidad_3_anio</td>\n",
       "      <td>matrimonio_civil</td>\n",
       "      <td>0</td>\n",
       "      <td>mujer</td>\n",
       "      <td>40</td>\n",
       "      <td>judaismo</td>\n",
       "      <td>casada</td>\n",
       "      <td>0</td>\n",
       "      <td>profesional_especializado</td>\n",
       "    </tr>\n",
       "  </tbody>\n",
       "</table>\n",
       "</div>"
      ],
      "text/plain": [
       "   anios_estudiados     barrio     categoria_de_trabajo  edad  \\\n",
       "0                17    Palermo      empleado_provincial    39   \n",
       "1                17    Palermo            monotibutista    50   \n",
       "2                13    Palermo  relacion_de_dependencia    38   \n",
       "3                11    Palermo  relacion_de_dependencia    53   \n",
       "4                17  Balvanera  relacion_de_dependencia    28   \n",
       "\n",
       "  educacion_alcanzada    estado_marital  \\\n",
       "0  universidad_3_anio    sin_matrimonio   \n",
       "1  universidad_3_anio  matrimonio_civil   \n",
       "2              4_anio        divorciado   \n",
       "3              2_anio  matrimonio_civil   \n",
       "4  universidad_3_anio  matrimonio_civil   \n",
       "\n",
       "   ganancia_perdida_declarada_bolsa_argentina  genero  \\\n",
       "0                                        2174  hombre   \n",
       "1                                           0  hombre   \n",
       "2                                           0  hombre   \n",
       "3                                           0  hombre   \n",
       "4                                           0   mujer   \n",
       "\n",
       "   horas_trabajo_registradas      religion rol_familiar_registrado  \\\n",
       "0                         40  cristianismo             sin_familia   \n",
       "1                         13  cristianismo                  casado   \n",
       "2                         40  cristianismo             sin_familia   \n",
       "3                         40      judaismo                  casado   \n",
       "4                         40      judaismo                  casada   \n",
       "\n",
       "   tiene_alto_valor_adquisitivo                    trabajo  \n",
       "0                             0            entretenimiento  \n",
       "1                             0          directivo_gerente  \n",
       "2                             0                  limpiador  \n",
       "3                             0                  limpiador  \n",
       "4                             0  profesional_especializado  "
      ]
     },
     "execution_count": 3,
     "metadata": {},
     "output_type": "execute_result"
    }
   ],
   "source": [
    "df.head()"
   ]
  },
  {
   "cell_type": "markdown",
   "id": "e959eef0",
   "metadata": {},
   "source": [
    "# Feature Engineering"
   ]
  },
  {
   "cell_type": "markdown",
   "id": "1ab2f904",
   "metadata": {},
   "source": [
    "## Missings"
   ]
  },
  {
   "cell_type": "markdown",
   "id": "eef04d71",
   "metadata": {},
   "source": [
    "### Hay valores inválidos?"
   ]
  },
  {
   "cell_type": "code",
   "execution_count": 4,
   "id": "82ca1657",
   "metadata": {},
   "outputs": [
    {
     "name": "stdout",
     "output_type": "stream",
     "text": [
      "False    13\n",
      "dtype: int64\n",
      "False    13\n",
      "dtype: int64\n"
     ]
    },
    {
     "data": {
      "text/plain": [
       "edad                         False\n",
       "horas_trabajo_registradas    False\n",
       "dtype: bool"
      ]
     },
     "execution_count": 4,
     "metadata": {},
     "output_type": "execute_result"
    }
   ],
   "source": [
    "print(df.astype('str').eq('-').any(0).value_counts())\n",
    "print(df.astype('str').eq('').any(0).value_counts())\n",
    "(df[['edad', 'horas_trabajo_registradas']] < 0).any()"
   ]
  },
  {
   "cell_type": "markdown",
   "id": "0a77437b",
   "metadata": {},
   "source": [
    "### ¿Hay missings?"
   ]
  },
  {
   "cell_type": "code",
   "execution_count": 5,
   "id": "b846bbc9",
   "metadata": {},
   "outputs": [
    {
     "name": "stdout",
     "output_type": "stream",
     "text": [
      "                                            Porcentaje de nulos\n",
      "anios_estudiados                                       0.000000\n",
      "barrio                                                 1.790486\n",
      "categoria_de_trabajo                                   5.638647\n",
      "edad                                                   0.000000\n",
      "educacion_alcanzada                                    0.000000\n",
      "estado_marital                                         0.000000\n",
      "ganancia_perdida_declarada_bolsa_argentina             0.000000\n",
      "genero                                                 0.000000\n",
      "horas_trabajo_registradas                              0.000000\n",
      "religion                                               0.000000\n",
      "rol_familiar_registrado                                0.000000\n",
      "tiene_alto_valor_adquisitivo                           0.000000\n",
      "trabajo                                                5.660146\n"
     ]
    }
   ],
   "source": [
    "print((df.isnull().mean() * 100).to_frame('Porcentaje de nulos'))"
   ]
  },
  {
   "cell_type": "markdown",
   "id": "c9d0451a",
   "metadata": {},
   "source": [
    "- Se idenfican los features con missings y se observa que poseen porcentajes bajos."
   ]
  },
  {
   "cell_type": "markdown",
   "id": "b47b645d",
   "metadata": {},
   "source": [
    "### ¿Como tratar los missings presentes?"
   ]
  },
  {
   "cell_type": "markdown",
   "id": "2a2a347e",
   "metadata": {},
   "source": [
    "- Primero, se analizan las categorías presentes para entender si existe una categoría asociada a respuestas no informadas."
   ]
  },
  {
   "cell_type": "code",
   "execution_count": 6,
   "id": "5b7a9a3e",
   "metadata": {},
   "outputs": [
    {
     "name": "stdout",
     "output_type": "stream",
     "text": [
      "Palermo\n",
      "Balvanera\n",
      "Caballito\n",
      "Almagro\n",
      "Belgrano\n",
      "Boedo\n",
      "La Boca\n",
      "Versalles\n",
      "Puerto Madero\n",
      "Recoleta\n",
      "Villa Urquiza\n",
      "Nueva Pompeya\n",
      "San Isidro\n",
      "Chacarita\n",
      "Flores\n",
      "Liniers\n",
      "Villa Devoto\n",
      "San Telmo\n",
      "Parque Chas\n",
      "Villa Real\n",
      "Monte Castro\n",
      "Mataderos\n",
      "Monserrat\n",
      "Coghland\n",
      "Agronomia\n",
      "Villa Luro\n",
      "Constitucion\n",
      "Barracas\n",
      "Colegiales\n",
      "Santa Rita\n",
      "Parque Chacabuco\n",
      "Villa General Mitre\n",
      "Villa Pueyrredon\n",
      "Villa Soldati\n",
      "Parque Avellaneda\n",
      "nuñez\n",
      "Floresta\n",
      "Retiro\n",
      "La Paternal\n",
      "Velez Sarsfield\n",
      "Cilla Riachuelo\n"
     ]
    }
   ],
   "source": [
    "print(*(df['barrio'].dropna().unique()), sep= \"\\n\") "
   ]
  },
  {
   "cell_type": "code",
   "execution_count": 7,
   "id": "7b2607a0",
   "metadata": {},
   "outputs": [
    {
     "name": "stdout",
     "output_type": "stream",
     "text": [
      "empleado_provincial\n",
      "monotibutista\n",
      "relacion_de_dependencia\n",
      "empleadao_estatal\n",
      "empleado_municipal\n",
      "responsable_inscripto\n",
      "trabajo_voluntariado\n",
      "sin_trabajo\n"
     ]
    }
   ],
   "source": [
    "print(*(df['categoria_de_trabajo'].dropna().unique()), sep = \"\\n\")"
   ]
  },
  {
   "cell_type": "code",
   "execution_count": 8,
   "id": "0045cfc2",
   "metadata": {},
   "outputs": [
    {
     "name": "stdout",
     "output_type": "stream",
     "text": [
      "entretenimiento\n",
      "directivo_gerente\n",
      "limpiador\n",
      "profesional_especializado\n",
      "otros\n",
      "ventas\n",
      "reparador\n",
      "transporte\n",
      "sector_primario\n",
      "inspector\n",
      "soporte_tecnico\n",
      "seguridad\n",
      "ejercito\n",
      "servicio_domestico\n"
     ]
    }
   ],
   "source": [
    "print(*(df['trabajo'].dropna().unique()), sep=\"\\n\")"
   ]
  },
  {
   "cell_type": "markdown",
   "id": "23e8d16d",
   "metadata": {},
   "source": [
    "- Clasificación de missings por feature: \n",
    "    - barrio: Completamente aleatorios\n",
    "    - categoria_de_trabajo: Completamente aleatorios\n",
    "    - trabajo: Aleatorios\n",
    "- Tratamiento de missings: para barrio y categoria_de_trabajo se asignarán nuevas categorías, en ambos casos llamadas \"sin_informar\". Para trabajo se hará lo mismo, pero en los casos en que categoria_de_trabajo sea sin_trabajo se asignará una nueva categoria llamada \"sin_trabajo\". "
   ]
  },
  {
   "cell_type": "code",
   "execution_count": 9,
   "id": "b1f58e72",
   "metadata": {},
   "outputs": [],
   "source": [
    "df['barrio'] = df['barrio'].replace(np.nan, 'sin_informar')\n",
    "df['categoria_de_trabajo'] = df['categoria_de_trabajo'].replace(np.nan, 'sin_informar')\n",
    "df['trabajo'] = df['trabajo'].replace(np.nan, 'sin_informar')\n",
    "df.loc[df['categoria_de_trabajo'] == 'sin_trabajo', ['trabajo']] = 'sin_trabajo'"
   ]
  },
  {
   "cell_type": "code",
   "execution_count": 10,
   "id": "4d02f7b7",
   "metadata": {},
   "outputs": [
    {
     "name": "stdout",
     "output_type": "stream",
     "text": [
      "                                            Porcentaje de nulos\n",
      "anios_estudiados                                            0.0\n",
      "barrio                                                      0.0\n",
      "categoria_de_trabajo                                        0.0\n",
      "edad                                                        0.0\n",
      "educacion_alcanzada                                         0.0\n",
      "estado_marital                                              0.0\n",
      "ganancia_perdida_declarada_bolsa_argentina                  0.0\n",
      "genero                                                      0.0\n",
      "horas_trabajo_registradas                                   0.0\n",
      "religion                                                    0.0\n",
      "rol_familiar_registrado                                     0.0\n",
      "tiene_alto_valor_adquisitivo                                0.0\n",
      "trabajo                                                     0.0\n"
     ]
    }
   ],
   "source": [
    "print((df.isnull().mean() * 100).to_frame('Porcentaje de nulos'))"
   ]
  },
  {
   "cell_type": "markdown",
   "id": "e6bc81da",
   "metadata": {},
   "source": [
    "- Se observa que todos los missings expuestos han sido neutralizados"
   ]
  },
  {
   "cell_type": "markdown",
   "id": "4d31c944",
   "metadata": {},
   "source": [
    "## Conversión de variables"
   ]
  },
  {
   "cell_type": "markdown",
   "id": "89cda646",
   "metadata": {},
   "source": [
    "Preprocesamiento: hay que convertir todos los features categóricos a numeros. Para variables categóricas se usan Dummy Variables y para ordinales OrdinalEncoder."
   ]
  },
  {
   "cell_type": "markdown",
   "id": "9de7bf86",
   "metadata": {},
   "source": [
    "TODO: hay que hacer reducción dimensional antes, usando dummy variables se agranda la dimensión"
   ]
  },
  {
   "cell_type": "markdown",
   "id": "6a295cd2",
   "metadata": {},
   "source": [
    "### Educación alcanzada"
   ]
  },
  {
   "cell_type": "code",
   "execution_count": 11,
   "id": "1bb060c5",
   "metadata": {},
   "outputs": [
    {
     "data": {
      "text/html": [
       "<div>\n",
       "<style scoped>\n",
       "    .dataframe tbody tr th:only-of-type {\n",
       "        vertical-align: middle;\n",
       "    }\n",
       "\n",
       "    .dataframe tbody tr th {\n",
       "        vertical-align: top;\n",
       "    }\n",
       "\n",
       "    .dataframe thead th {\n",
       "        text-align: right;\n",
       "    }\n",
       "</style>\n",
       "<table border=\"1\" class=\"dataframe\">\n",
       "  <thead>\n",
       "    <tr style=\"text-align: right;\">\n",
       "      <th></th>\n",
       "      <th>educacion_alcanzada</th>\n",
       "      <th>educacion_alcanzada_encoded</th>\n",
       "    </tr>\n",
       "  </thead>\n",
       "  <tbody>\n",
       "    <tr>\n",
       "      <th>224</th>\n",
       "      <td>preescolar</td>\n",
       "      <td>0.0</td>\n",
       "    </tr>\n",
       "    <tr>\n",
       "      <th>160</th>\n",
       "      <td>1-4_grado</td>\n",
       "      <td>1.0</td>\n",
       "    </tr>\n",
       "    <tr>\n",
       "      <th>56</th>\n",
       "      <td>5-6_grado</td>\n",
       "      <td>2.0</td>\n",
       "    </tr>\n",
       "    <tr>\n",
       "      <th>15</th>\n",
       "      <td>7-8_grado</td>\n",
       "      <td>3.0</td>\n",
       "    </tr>\n",
       "    <tr>\n",
       "      <th>6</th>\n",
       "      <td>9_grado</td>\n",
       "      <td>4.0</td>\n",
       "    </tr>\n",
       "    <tr>\n",
       "      <th>77</th>\n",
       "      <td>1_anio</td>\n",
       "      <td>5.0</td>\n",
       "    </tr>\n",
       "    <tr>\n",
       "      <th>3</th>\n",
       "      <td>2_anio</td>\n",
       "      <td>6.0</td>\n",
       "    </tr>\n",
       "    <tr>\n",
       "      <th>415</th>\n",
       "      <td>3_anio</td>\n",
       "      <td>7.0</td>\n",
       "    </tr>\n",
       "    <tr>\n",
       "      <th>2</th>\n",
       "      <td>4_anio</td>\n",
       "      <td>8.0</td>\n",
       "    </tr>\n",
       "    <tr>\n",
       "      <th>10</th>\n",
       "      <td>5_anio</td>\n",
       "      <td>9.0</td>\n",
       "    </tr>\n",
       "    <tr>\n",
       "      <th>14</th>\n",
       "      <td>universidad_1_anio</td>\n",
       "      <td>10.0</td>\n",
       "    </tr>\n",
       "    <tr>\n",
       "      <th>13</th>\n",
       "      <td>universidad_2_anio</td>\n",
       "      <td>11.0</td>\n",
       "    </tr>\n",
       "    <tr>\n",
       "      <th>0</th>\n",
       "      <td>universidad_3_anio</td>\n",
       "      <td>12.0</td>\n",
       "    </tr>\n",
       "    <tr>\n",
       "      <th>5</th>\n",
       "      <td>universidad_4_anio</td>\n",
       "      <td>13.0</td>\n",
       "    </tr>\n",
       "    <tr>\n",
       "      <th>52</th>\n",
       "      <td>universiada_5_anio</td>\n",
       "      <td>14.0</td>\n",
       "    </tr>\n",
       "    <tr>\n",
       "      <th>20</th>\n",
       "      <td>universiada_6_anio</td>\n",
       "      <td>15.0</td>\n",
       "    </tr>\n",
       "  </tbody>\n",
       "</table>\n",
       "</div>"
      ],
      "text/plain": [
       "    educacion_alcanzada  educacion_alcanzada_encoded\n",
       "224          preescolar                          0.0\n",
       "160           1-4_grado                          1.0\n",
       "56            5-6_grado                          2.0\n",
       "15            7-8_grado                          3.0\n",
       "6               9_grado                          4.0\n",
       "77               1_anio                          5.0\n",
       "3                2_anio                          6.0\n",
       "415              3_anio                          7.0\n",
       "2                4_anio                          8.0\n",
       "10               5_anio                          9.0\n",
       "14   universidad_1_anio                         10.0\n",
       "13   universidad_2_anio                         11.0\n",
       "0    universidad_3_anio                         12.0\n",
       "5    universidad_4_anio                         13.0\n",
       "52   universiada_5_anio                         14.0\n",
       "20   universiada_6_anio                         15.0"
      ]
     },
     "execution_count": 11,
     "metadata": {},
     "output_type": "execute_result"
    }
   ],
   "source": [
    "from sklearn.preprocessing import OrdinalEncoder\n",
    "\n",
    "categorias = [\n",
    " 'preescolar',\n",
    " '1-4_grado',\n",
    " '5-6_grado',\n",
    " '7-8_grado',\n",
    " '9_grado',\n",
    " '1_anio',\n",
    " '2_anio',\n",
    " '3_anio',\n",
    " '4_anio',\n",
    " '5_anio',\n",
    " 'universidad_1_anio',\n",
    " 'universidad_2_anio',\n",
    " 'universidad_3_anio',\n",
    " 'universidad_4_anio',\n",
    " 'universiada_5_anio',\n",
    " 'universiada_6_anio'\n",
    "]\n",
    "oe = OrdinalEncoder(categories= [categorias])\n",
    "X = df\n",
    "X[[\"educacion_alcanzada_encoded\"]] = oe.fit_transform(df[[\"educacion_alcanzada\"]])\n",
    "X = X.drop('educacion_alcanzada', axis=1)\n",
    "\n",
    "df[[\"educacion_alcanzada\", \"educacion_alcanzada_encoded\"]].drop_duplicates().sort_values(by=\"educacion_alcanzada_encoded\")"
   ]
  },
  {
   "cell_type": "markdown",
   "id": "aa3060a3",
   "metadata": {},
   "source": [
    "### Género"
   ]
  },
  {
   "cell_type": "code",
   "execution_count": 12,
   "id": "31231aed",
   "metadata": {},
   "outputs": [],
   "source": [
    "X = pd.get_dummies(X, columns=['genero'], dummy_na=False, drop_first=True)"
   ]
  },
  {
   "cell_type": "markdown",
   "id": "6ebf4e8c",
   "metadata": {},
   "source": [
    "### Estado marital"
   ]
  },
  {
   "cell_type": "code",
   "execution_count": 13,
   "id": "ea6f51d0",
   "metadata": {},
   "outputs": [],
   "source": [
    "X = pd.get_dummies(X, columns=['estado_marital'], dummy_na=False, drop_first=True)"
   ]
  },
  {
   "cell_type": "markdown",
   "id": "267172d9",
   "metadata": {},
   "source": [
    "### Religión"
   ]
  },
  {
   "cell_type": "code",
   "execution_count": 14,
   "id": "4708d6e0",
   "metadata": {},
   "outputs": [],
   "source": [
    "X = pd.get_dummies(X, columns=['religion'], dummy_na=False, drop_first=True)"
   ]
  },
  {
   "cell_type": "markdown",
   "id": "478f6727",
   "metadata": {},
   "source": [
    "### Barrio"
   ]
  },
  {
   "cell_type": "code",
   "execution_count": 15,
   "id": "1ee5b6fd",
   "metadata": {},
   "outputs": [],
   "source": [
    "X = pd.get_dummies(X, columns=['barrio'], dummy_na=True, drop_first=True)"
   ]
  },
  {
   "cell_type": "markdown",
   "id": "18aa5ad4",
   "metadata": {},
   "source": [
    "### Categoria de trabajo"
   ]
  },
  {
   "cell_type": "code",
   "execution_count": 16,
   "id": "536f4dca",
   "metadata": {},
   "outputs": [],
   "source": [
    "X = pd.get_dummies(X, columns=['categoria_de_trabajo'], dummy_na=False, drop_first=True)"
   ]
  },
  {
   "cell_type": "markdown",
   "id": "969e38b5",
   "metadata": {},
   "source": [
    "### Rol familiar"
   ]
  },
  {
   "cell_type": "code",
   "execution_count": 17,
   "id": "6c8d377a",
   "metadata": {},
   "outputs": [],
   "source": [
    "X = pd.get_dummies(X, columns=['rol_familiar_registrado'], dummy_na=False, drop_first=True)"
   ]
  },
  {
   "cell_type": "markdown",
   "id": "532786ad",
   "metadata": {},
   "source": [
    "### Trabajo"
   ]
  },
  {
   "cell_type": "code",
   "execution_count": 18,
   "id": "755a90f0",
   "metadata": {},
   "outputs": [],
   "source": [
    "X = pd.get_dummies(X, columns=['trabajo'], dummy_na=False, drop_first=True)"
   ]
  },
  {
   "cell_type": "markdown",
   "id": "e61e3135",
   "metadata": {},
   "source": [
    "## Selección de variables"
   ]
  },
  {
   "cell_type": "markdown",
   "id": "686e4f29",
   "metadata": {},
   "source": [
    "(TODO: filtrar la variable de educación alcanzada por la alta correlación con los años estudiados)\n",
    "\n",
    "¿Reducción dimensional?"
   ]
  },
  {
   "cell_type": "markdown",
   "id": "f08bd131",
   "metadata": {},
   "source": [
    "# Árbol de decisión"
   ]
  },
  {
   "cell_type": "markdown",
   "id": "59130ab2",
   "metadata": {},
   "source": [
    "Para entrenar el modelo:"
   ]
  },
  {
   "cell_type": "code",
   "execution_count": 19,
   "id": "37490add",
   "metadata": {},
   "outputs": [],
   "source": [
    "from sklearn import preprocessing, tree\n",
    "\n",
    "def get_tree(X, y, max_depth=5, min_samples_leaf=10):\n",
    "    \"\"\"Devuelve el árbol entrenado.\"\"\"\n",
    "    clf = tree.DecisionTreeClassifier(\n",
    "        random_state=117, max_depth=max_depth, min_samples_leaf=min_samples_leaf\n",
    "    )\n",
    "    clf.fit(X, y)\n",
    "    return clf"
   ]
  },
  {
   "cell_type": "markdown",
   "id": "859ff453",
   "metadata": {},
   "source": [
    "## Buscamos los hiperparámetros del árbol"
   ]
  },
  {
   "cell_type": "markdown",
   "id": "f83dfa38",
   "metadata": {},
   "source": [
    "Evitar overfitting (TODO: poda, criterio de parada)"
   ]
  },
  {
   "cell_type": "code",
   "execution_count": null,
   "id": "fc22005a",
   "metadata": {},
   "outputs": [],
   "source": [
    "from sklearn.model_selection import GridSearchCV \n",
    "# GridSearch porque son solo 2 hiperparametros? preguntar, sino uso RandomSearch"
   ]
  },
  {
   "cell_type": "markdown",
   "id": "e2845992",
   "metadata": {},
   "source": [
    "## Métricas y cross validation\n"
   ]
  },
  {
   "cell_type": "markdown",
   "id": "32e02743",
   "metadata": {},
   "source": [
    "### Stratified K-folds\n",
    "Dividimos el dataset en 5 folds para entrenar el modelo (estratificados para ser más homogéneos en cantidad de personas de altos ingresos):"
   ]
  },
  {
   "cell_type": "code",
   "execution_count": 39,
   "id": "1377c4b5",
   "metadata": {},
   "outputs": [
    {
     "name": "stdout",
     "output_type": "stream",
     "text": [
      "folds test accuracy is: [0.8461538461538461, 0.8496621621621622, 0.8547297297297297, 0.8630221130221131, 0.8588759213759214]\n"
     ]
    }
   ],
   "source": [
    "from sklearn.model_selection import StratifiedKFold\n",
    "from sklearn.metrics import accuracy_score\n",
    "\n",
    "X_array = np.array(X.drop('tiene_alto_valor_adquisitivo', axis=1))\n",
    "y = np.array(X.tiene_alto_valor_adquisitivo)\n",
    "\n",
    "kf = StratifiedKFold(n_splits=5)\n",
    "\n",
    "max_depth = 11\n",
    "min_samples_leaf = 4\n",
    "\n",
    "test_accuracies = []\n",
    "for train_index, test_index in kf.split(X, y):\n",
    "    clf = get_tree(X_array[train_index], y[train_index], max_depth, min_samples_leaf)\n",
    "    test_accuracy = accuracy_score(y[test_index], clf.predict(X_array[test_index]))\n",
    "    test_accuracies.append(test_accuracy)\n",
    "\n",
    "print(f\"folds test accuracy is: {test_accuracies}\")"
   ]
  },
  {
   "cell_type": "markdown",
   "id": "1ceeba5d",
   "metadata": {},
   "source": [
    "### Curva ROC-AUC:"
   ]
  },
  {
   "cell_type": "code",
   "execution_count": 41,
   "id": "3d31573c",
   "metadata": {},
   "outputs": [],
   "source": [
    "from sklearn.metrics import accuracy_score, roc_auc_score"
   ]
  }
 ],
 "metadata": {
  "kernelspec": {
   "display_name": "Python 3",
   "language": "python",
   "name": "python3"
  },
  "language_info": {
   "codemirror_mode": {
    "name": "ipython",
    "version": 3
   },
   "file_extension": ".py",
   "mimetype": "text/x-python",
   "name": "python",
   "nbconvert_exporter": "python",
   "pygments_lexer": "ipython3",
   "version": "3.8.5"
  },
  "toc-autonumbering": true
 },
 "nbformat": 4,
 "nbformat_minor": 5
}
