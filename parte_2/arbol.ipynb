{
 "cells": [
  {
   "cell_type": "code",
   "execution_count": 1,
   "id": "fe3b7fe8",
   "metadata": {},
   "outputs": [],
   "source": [
    "import pandas as pd\n",
    "import numpy as np\n",
    "import seaborn as sns\n",
    "from matplotlib import pyplot as plt\n",
    "sns.set()"
   ]
  },
  {
   "cell_type": "code",
   "execution_count": 2,
   "id": "9c438b03",
   "metadata": {},
   "outputs": [],
   "source": [
    "GSPREADHSEET_DOWNLOAD_URL = (\n",
    "    \"https://docs.google.com/spreadsheets/d/{gid}/export?format=csv&id={gid}\".format\n",
    ")\n",
    "\n",
    "FIUFIP_2021_1_GID = '1-DWTP8uwVS-dZY402-dm0F9ICw_6PNqDGLmH0u8Eqa0'\n",
    "df = pd.read_csv(GSPREADHSEET_DOWNLOAD_URL(gid=FIUFIP_2021_1_GID))"
   ]
  },
  {
   "cell_type": "code",
   "execution_count": 3,
   "id": "39f8017f",
   "metadata": {},
   "outputs": [
    {
     "data": {
      "text/html": [
       "<div>\n",
       "<style scoped>\n",
       "    .dataframe tbody tr th:only-of-type {\n",
       "        vertical-align: middle;\n",
       "    }\n",
       "\n",
       "    .dataframe tbody tr th {\n",
       "        vertical-align: top;\n",
       "    }\n",
       "\n",
       "    .dataframe thead th {\n",
       "        text-align: right;\n",
       "    }\n",
       "</style>\n",
       "<table border=\"1\" class=\"dataframe\">\n",
       "  <thead>\n",
       "    <tr style=\"text-align: right;\">\n",
       "      <th></th>\n",
       "      <th>anios_estudiados</th>\n",
       "      <th>barrio</th>\n",
       "      <th>categoria_de_trabajo</th>\n",
       "      <th>edad</th>\n",
       "      <th>educacion_alcanzada</th>\n",
       "      <th>estado_marital</th>\n",
       "      <th>ganancia_perdida_declarada_bolsa_argentina</th>\n",
       "      <th>genero</th>\n",
       "      <th>horas_trabajo_registradas</th>\n",
       "      <th>religion</th>\n",
       "      <th>rol_familiar_registrado</th>\n",
       "      <th>tiene_alto_valor_adquisitivo</th>\n",
       "      <th>trabajo</th>\n",
       "    </tr>\n",
       "  </thead>\n",
       "  <tbody>\n",
       "    <tr>\n",
       "      <th>0</th>\n",
       "      <td>17</td>\n",
       "      <td>Palermo</td>\n",
       "      <td>empleado_provincial</td>\n",
       "      <td>39</td>\n",
       "      <td>universidad_3_anio</td>\n",
       "      <td>sin_matrimonio</td>\n",
       "      <td>2174</td>\n",
       "      <td>hombre</td>\n",
       "      <td>40</td>\n",
       "      <td>cristianismo</td>\n",
       "      <td>sin_familia</td>\n",
       "      <td>0</td>\n",
       "      <td>entretenimiento</td>\n",
       "    </tr>\n",
       "    <tr>\n",
       "      <th>1</th>\n",
       "      <td>17</td>\n",
       "      <td>Palermo</td>\n",
       "      <td>monotibutista</td>\n",
       "      <td>50</td>\n",
       "      <td>universidad_3_anio</td>\n",
       "      <td>matrimonio_civil</td>\n",
       "      <td>0</td>\n",
       "      <td>hombre</td>\n",
       "      <td>13</td>\n",
       "      <td>cristianismo</td>\n",
       "      <td>casado</td>\n",
       "      <td>0</td>\n",
       "      <td>directivo_gerente</td>\n",
       "    </tr>\n",
       "    <tr>\n",
       "      <th>2</th>\n",
       "      <td>13</td>\n",
       "      <td>Palermo</td>\n",
       "      <td>relacion_de_dependencia</td>\n",
       "      <td>38</td>\n",
       "      <td>4_anio</td>\n",
       "      <td>divorciado</td>\n",
       "      <td>0</td>\n",
       "      <td>hombre</td>\n",
       "      <td>40</td>\n",
       "      <td>cristianismo</td>\n",
       "      <td>sin_familia</td>\n",
       "      <td>0</td>\n",
       "      <td>limpiador</td>\n",
       "    </tr>\n",
       "    <tr>\n",
       "      <th>3</th>\n",
       "      <td>11</td>\n",
       "      <td>Palermo</td>\n",
       "      <td>relacion_de_dependencia</td>\n",
       "      <td>53</td>\n",
       "      <td>2_anio</td>\n",
       "      <td>matrimonio_civil</td>\n",
       "      <td>0</td>\n",
       "      <td>hombre</td>\n",
       "      <td>40</td>\n",
       "      <td>judaismo</td>\n",
       "      <td>casado</td>\n",
       "      <td>0</td>\n",
       "      <td>limpiador</td>\n",
       "    </tr>\n",
       "    <tr>\n",
       "      <th>4</th>\n",
       "      <td>17</td>\n",
       "      <td>Balvanera</td>\n",
       "      <td>relacion_de_dependencia</td>\n",
       "      <td>28</td>\n",
       "      <td>universidad_3_anio</td>\n",
       "      <td>matrimonio_civil</td>\n",
       "      <td>0</td>\n",
       "      <td>mujer</td>\n",
       "      <td>40</td>\n",
       "      <td>judaismo</td>\n",
       "      <td>casada</td>\n",
       "      <td>0</td>\n",
       "      <td>profesional_especializado</td>\n",
       "    </tr>\n",
       "  </tbody>\n",
       "</table>\n",
       "</div>"
      ],
      "text/plain": [
       "   anios_estudiados     barrio     categoria_de_trabajo  edad  \\\n",
       "0                17    Palermo      empleado_provincial    39   \n",
       "1                17    Palermo            monotibutista    50   \n",
       "2                13    Palermo  relacion_de_dependencia    38   \n",
       "3                11    Palermo  relacion_de_dependencia    53   \n",
       "4                17  Balvanera  relacion_de_dependencia    28   \n",
       "\n",
       "  educacion_alcanzada    estado_marital  \\\n",
       "0  universidad_3_anio    sin_matrimonio   \n",
       "1  universidad_3_anio  matrimonio_civil   \n",
       "2              4_anio        divorciado   \n",
       "3              2_anio  matrimonio_civil   \n",
       "4  universidad_3_anio  matrimonio_civil   \n",
       "\n",
       "   ganancia_perdida_declarada_bolsa_argentina  genero  \\\n",
       "0                                        2174  hombre   \n",
       "1                                           0  hombre   \n",
       "2                                           0  hombre   \n",
       "3                                           0  hombre   \n",
       "4                                           0   mujer   \n",
       "\n",
       "   horas_trabajo_registradas      religion rol_familiar_registrado  \\\n",
       "0                         40  cristianismo             sin_familia   \n",
       "1                         13  cristianismo                  casado   \n",
       "2                         40  cristianismo             sin_familia   \n",
       "3                         40      judaismo                  casado   \n",
       "4                         40      judaismo                  casada   \n",
       "\n",
       "   tiene_alto_valor_adquisitivo                    trabajo  \n",
       "0                             0            entretenimiento  \n",
       "1                             0          directivo_gerente  \n",
       "2                             0                  limpiador  \n",
       "3                             0                  limpiador  \n",
       "4                             0  profesional_especializado  "
      ]
     },
     "execution_count": 3,
     "metadata": {},
     "output_type": "execute_result"
    }
   ],
   "source": [
    "df.head()"
   ]
  },
  {
   "cell_type": "markdown",
   "id": "50bd232f",
   "metadata": {},
   "source": [
    "# Preprocesamiento"
   ]
  },
  {
   "cell_type": "markdown",
   "id": "1aa79b14",
   "metadata": {},
   "source": [
    "## Conversión de variables"
   ]
  },
  {
   "cell_type": "markdown",
   "id": "5ca1efc0",
   "metadata": {},
   "source": [
    "Hay que convertir todos los features categóricos a números. Para variables categóricas se usarán Dummy Variables y para ordinales OrdinalEncoder."
   ]
  },
  {
   "cell_type": "code",
   "execution_count": 5,
   "id": "88e3b4a0",
   "metadata": {},
   "outputs": [],
   "source": [
    "import preprocessing\n",
    "\n",
    "X = df.drop('tiene_alto_valor_adquisitivo', axis=1)\n",
    "X = preprocessing.ordinal_encode(X)\n",
    "X = preprocessing.dummy_variables(X)"
   ]
  },
  {
   "cell_type": "markdown",
   "id": "36ef7521",
   "metadata": {},
   "source": [
    "## Selección de variables: Embedding"
   ]
  },
  {
   "cell_type": "code",
   "execution_count": 39,
   "id": "4b109feb",
   "metadata": {},
   "outputs": [
    {
     "data": {
      "text/html": [
       "<div>\n",
       "<style scoped>\n",
       "    .dataframe tbody tr th:only-of-type {\n",
       "        vertical-align: middle;\n",
       "    }\n",
       "\n",
       "    .dataframe tbody tr th {\n",
       "        vertical-align: top;\n",
       "    }\n",
       "\n",
       "    .dataframe thead th {\n",
       "        text-align: right;\n",
       "    }\n",
       "</style>\n",
       "<table border=\"1\" class=\"dataframe\">\n",
       "  <thead>\n",
       "    <tr style=\"text-align: right;\">\n",
       "      <th></th>\n",
       "      <th>anios_estudiados</th>\n",
       "      <th>ganancia_perdida_declarada_bolsa_argentina</th>\n",
       "      <th>estado_marital_matrimonio_civil</th>\n",
       "    </tr>\n",
       "  </thead>\n",
       "  <tbody>\n",
       "    <tr>\n",
       "      <th>0</th>\n",
       "      <td>17</td>\n",
       "      <td>2174</td>\n",
       "      <td>0</td>\n",
       "    </tr>\n",
       "    <tr>\n",
       "      <th>1</th>\n",
       "      <td>17</td>\n",
       "      <td>0</td>\n",
       "      <td>1</td>\n",
       "    </tr>\n",
       "    <tr>\n",
       "      <th>2</th>\n",
       "      <td>13</td>\n",
       "      <td>0</td>\n",
       "      <td>0</td>\n",
       "    </tr>\n",
       "    <tr>\n",
       "      <th>3</th>\n",
       "      <td>11</td>\n",
       "      <td>0</td>\n",
       "      <td>1</td>\n",
       "    </tr>\n",
       "    <tr>\n",
       "      <th>4</th>\n",
       "      <td>17</td>\n",
       "      <td>0</td>\n",
       "      <td>1</td>\n",
       "    </tr>\n",
       "  </tbody>\n",
       "</table>\n",
       "</div>"
      ],
      "text/plain": [
       "   anios_estudiados  ganancia_perdida_declarada_bolsa_argentina  \\\n",
       "0                17                                        2174   \n",
       "1                17                                           0   \n",
       "2                13                                           0   \n",
       "3                11                                           0   \n",
       "4                17                                           0   \n",
       "\n",
       "   estado_marital_matrimonio_civil  \n",
       "0                                0  \n",
       "1                                1  \n",
       "2                                0  \n",
       "3                                1  \n",
       "4                                1  "
      ]
     },
     "execution_count": 39,
     "metadata": {},
     "output_type": "execute_result"
    }
   ],
   "source": [
    "import preprocessing\n",
    "from sklearn.tree import DecisionTreeClassifier\n",
    "\n",
    "y = df.tiene_alto_valor_adquisitivo\n",
    "clf = DecisionTreeClassifier(random_state=117)\n",
    "X = preprocessing.embedded(X, y, clf, min_importance=0.05)\n",
    "X.head()"
   ]
  },
  {
   "cell_type": "markdown",
   "id": "7b25314d",
   "metadata": {},
   "source": [
    "TODO: \n",
    "- filtrar la variable de educación alcanzada por la alta correlación con los años estudiados?\n",
    "-  ¿Reducción dimensional?"
   ]
  },
  {
   "cell_type": "markdown",
   "id": "4f38f1b0",
   "metadata": {},
   "source": [
    "# Árbol de decisión"
   ]
  },
  {
   "cell_type": "markdown",
   "id": "59403f65",
   "metadata": {},
   "source": [
    "## Entrenamiento y búsqueda de hiperparámetros"
   ]
  },
  {
   "cell_type": "markdown",
   "id": "f8e1e977",
   "metadata": {},
   "source": [
    "TODO:\n",
    "- Evitar overfitting (poda, criterio de parada) -> Minimos y maximos para los hiperparametros?\n",
    "- Criterio para elegir mejor combinacion de hiperparametros?  Cant de iteraciones?\n",
    "\n",
    "\n",
    "\n",
    "\n",
    "Se usa RandomSearch para buscar la mejor combinación de hiperparámetros. Se elige la mejor combinación según su score de la curva ROC-AUC. "
   ]
  },
  {
   "cell_type": "code",
   "execution_count": 35,
   "id": "d39b6855",
   "metadata": {},
   "outputs": [
    {
     "data": {
      "text/plain": [
       "{'min_samples_leaf': 10, 'max_depth': 8}"
      ]
     },
     "execution_count": 35,
     "metadata": {},
     "output_type": "execute_result"
    }
   ],
   "source": [
    "from sklearn.model_selection import RandomizedSearchCV \n",
    "from sklearn import tree\n",
    "\n",
    "y = df.tiene_alto_valor_adquisitivo\n",
    "\n",
    "clf = tree.DecisionTreeClassifier(random_state=117)\n",
    "params = {'max_depth': np.arange(1, 9), 'min_samples_leaf': np.arange(1, 16)}\n",
    "\n",
    "metricas = ('accuracy', 'precision', 'recall', 'f1', 'roc_auc')\n",
    "\n",
    "rscv = RandomizedSearchCV(\n",
    "    clf, params, n_iter=60, scoring=metricas, n_jobs=-1, cv=5, return_train_score=True, refit = 'roc_auc'\n",
    ").fit(X, y)\n",
    "\n",
    "rscv.best_params_"
   ]
  },
  {
   "cell_type": "markdown",
   "id": "30906062",
   "metadata": {},
   "source": [
    "# Métricas\n"
   ]
  },
  {
   "cell_type": "markdown",
   "id": "36335563",
   "metadata": {},
   "source": [
    "Curva AUC-ROC, Accuracy, Precision, Recall, F1 score:"
   ]
  },
  {
   "cell_type": "code",
   "execution_count": 25,
   "id": "c6a53955",
   "metadata": {},
   "outputs": [],
   "source": [
    "from sklearn.metrics import accuracy_score, precision_score, roc_curve, f1_score, recall_score\n",
    "\n",
    "def calcular_metricas(y_true, y_pred):\n",
    "    roc = roc_curve(y_true, y_pred)\n",
    "    accuracy = accuracy_score(y_true, y_pred)\n",
    "    precision = precision_score(y_true, y_pred)\n",
    "    recall = recall_score(y_true, y_pred, pos_label=0)\n",
    "    f1score = f1_score(y_true, y_pred)\n",
    "    return (accuracy, precision, recall, f1score, roc)"
   ]
  },
  {
   "cell_type": "code",
   "execution_count": 36,
   "id": "078f148e",
   "metadata": {},
   "outputs": [
    {
     "name": "stdout",
     "output_type": "stream",
     "text": [
      "Accuracy: 0.8591873713952274 \n",
      "Precision: 0.8097412480974124 \n",
      "Recall: 0.959546925566343 \n",
      "F1-score: 0.649919828968466 \n",
      "Curva ROC-AUC:\n"
     ]
    },
    {
     "data": {
      "image/png": "[encoded data removed]",
      "text/plain": [
       "<Figure size 432x288 with 1 Axes>"
      ]
     },
     "metadata": {},
     "output_type": "display_data"
    }
   ],
   "source": [
    "from sklearn.metrics import plot_roc_curve\n",
    "\n",
    "(accuracy, precision, recall, f1score, roc) = calcular_metricas(y, rscv.best_estimator_.predict(X))\n",
    "print(f\"Accuracy: {accuracy} \\nPrecision: {precision} \\nRecall: {recall} \\nF1-score: {f1score} \\nCurva ROC-AUC:\")\n",
    "roc = plot_roc_curve(rscv.best_estimator_, X, y)"
   ]
  }
 ],
 "metadata": {
  "kernelspec": {
   "display_name": "Python 3",
   "language": "python",
   "name": "python3"
  },
  "language_info": {
   "codemirror_mode": {
    "name": "ipython",
    "version": 3
   },
   "file_extension": ".py",
   "mimetype": "text/x-python",
   "name": "python",
   "nbconvert_exporter": "python",
   "pygments_lexer": "ipython3",
   "version": "3.9.5"
  },
  "toc-autonumbering": true
 },
 "nbformat": 4,
 "nbformat_minor": 5
}
