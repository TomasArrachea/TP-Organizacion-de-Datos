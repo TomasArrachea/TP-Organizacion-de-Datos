{
 "cells": [
  {
   "cell_type": "code",
   "execution_count": 1,
   "id": "62900cca",
   "metadata": {},
   "outputs": [],
   "source": [
    "import pandas as pd\n",
    "import numpy as np\n",
    "import seaborn as sns\n",
    "from matplotlib import pyplot as plt\n",
    "import preprocessing\n",
    "\n",
    "sns.set()"
   ]
  },
  {
   "cell_type": "code",
   "execution_count": 2,
   "id": "4f3cbf85",
   "metadata": {},
   "outputs": [],
   "source": [
    "GSPREADHSEET_DOWNLOAD_URL = (\n",
    "    \"https://docs.google.com/spreadsheets/d/{gid}/export?format=csv&id={gid}\".format\n",
    ")\n",
    "\n",
    "FIUFIP_2021_1_GID = '1-DWTP8uwVS-dZY402-dm0F9ICw_6PNqDGLmH0u8Eqa0'\n",
    "df = pd.read_csv(GSPREADHSEET_DOWNLOAD_URL(gid=FIUFIP_2021_1_GID))"
   ]
  },
  {
   "cell_type": "markdown",
   "id": "0028da5d",
   "metadata": {},
   "source": [
    "# Preprocesamiento"
   ]
  },
  {
   "cell_type": "markdown",
   "id": "3230df3c",
   "metadata": {},
   "source": [
    "## Conversión de variables"
   ]
  },
  {
   "cell_type": "markdown",
   "id": "8fb6eb00",
   "metadata": {},
   "source": [
    "Hay que convertir todos los features categóricos a números. Para variables categóricas se usarán Dummy Variables y para ordinales OrdinalEncoder."
   ]
  },
  {
   "cell_type": "code",
   "execution_count": 3,
   "id": "234581e1",
   "metadata": {},
   "outputs": [],
   "source": [
    "X = df.drop('tiene_alto_valor_adquisitivo', axis=1)\n",
    "X = preprocessing.ordinal_encode(X)\n",
    "X = preprocessing.dummy_variables(X)"
   ]
  },
  {
   "cell_type": "markdown",
   "id": "800e9561",
   "metadata": {},
   "source": [
    "## Normalización"
   ]
  },
  {
   "cell_type": "code",
   "execution_count": 4,
   "id": "de2eda9c",
   "metadata": {},
   "outputs": [],
   "source": [
    "from sklearn import preprocessing as preproc \n",
    "\n",
    "normalizer = preproc.Normalizer()\n",
    "X = normalizer.transform(X)"
   ]
  },
  {
   "cell_type": "markdown",
   "id": "f41dcf78",
   "metadata": {},
   "source": [
    "## Reducción de dimensionalidad: PCA"
   ]
  },
  {
   "cell_type": "code",
   "execution_count": 5,
   "id": "587616a7",
   "metadata": {},
   "outputs": [
    {
     "data": {
      "text/plain": [
       "(32561, 4)"
      ]
     },
     "execution_count": 5,
     "metadata": {},
     "output_type": "execute_result"
    }
   ],
   "source": [
    "from sklearn.decomposition import PCA\n",
    "\n",
    "pca = PCA(n_components=0.99)\n",
    "pca.fit(X)\n",
    "X = pca.transform(X)\n",
    "X.shape"
   ]
  },
  {
   "cell_type": "markdown",
   "id": "7dbab4bb",
   "metadata": {},
   "source": [
    "Con 4 componentes principales se cubre el 99% de la varianza."
   ]
  },
  {
   "cell_type": "markdown",
   "id": "65e8de99",
   "metadata": {},
   "source": [
    "# SVM: entrenamiento y búsqueda de hiperparámetros."
   ]
  },
  {
   "cell_type": "markdown",
   "id": "ef5e75a7",
   "metadata": {},
   "source": [
    "### Cross validation"
   ]
  },
  {
   "cell_type": "markdown",
   "id": "7e2b621b",
   "metadata": {},
   "source": [
    "Se usa una baja proporción de datos para train para acelerar el entrenamiento de SVM."
   ]
  },
  {
   "cell_type": "code",
   "execution_count": 6,
   "id": "ea339050",
   "metadata": {},
   "outputs": [
    {
     "name": "stdout",
     "output_type": "stream",
     "text": [
      "X_train tiene 13024 elementos\n"
     ]
    }
   ],
   "source": [
    "y = df.tiene_alto_valor_adquisitivo\n",
    "X_train, X_test, y_train, y_test = preprocessing.dataset_split(pd.DataFrame(X), y, test_size = 0.60)\n",
    "print(f'X_train tiene {len(X_train)} elementos')"
   ]
  },
  {
   "cell_type": "markdown",
   "id": "908c6801",
   "metadata": {},
   "source": [
    "Se usa GridSearch para buscar la mejor combinación de hiperparámetros. Se elige la mejor combinación según su score de la curva ROC-AUC. "
   ]
  },
  {
   "cell_type": "markdown",
   "id": "e4eebd9d",
   "metadata": {},
   "source": [
    "## Kernel lineal"
   ]
  },
  {
   "cell_type": "code",
   "execution_count": 7,
   "id": "1d9eda89",
   "metadata": {},
   "outputs": [
    {
     "data": {
      "text/plain": [
       "{'C': 10, 'gamma': 'scale'}"
      ]
     },
     "execution_count": 7,
     "metadata": {},
     "output_type": "execute_result"
    }
   ],
   "source": [
    "from sklearn.model_selection import GridSearchCV \n",
    "from sklearn import svm\n",
    "\n",
    "clf = svm.SVC(kernel='linear', cache_size = 400)\n",
    "params = {'C': [0.1, 1, 10], 'gamma': ['scale', 'auto']}\n",
    "\n",
    "gscv_lineal = GridSearchCV(\n",
    "    clf, params, scoring='roc_auc', n_jobs=-1, cv=5, return_train_score=True\n",
    ").fit(X_train, y_train)\n",
    "\n",
    "gscv_lineal.best_params_"
   ]
  },
  {
   "cell_type": "markdown",
   "id": "cd75a235",
   "metadata": {},
   "source": [
    "### Métricas\n"
   ]
  },
  {
   "cell_type": "markdown",
   "id": "93c32c14",
   "metadata": {},
   "source": [
    "Curva AUC-ROC, Accuracy, Precision, Recall, F1 score:"
   ]
  },
  {
   "cell_type": "code",
   "execution_count": 8,
   "id": "660457fd",
   "metadata": {},
   "outputs": [
    {
     "name": "stdout",
     "output_type": "stream",
     "text": [
      "Accuracy: 0.7794953165787992 \n",
      "Precision: 0.6247642991829039 \n",
      "Recall: 0.9597491909385113 \n",
      "F1-score: 0.3157560355781448 \n",
      "Curva ROC-AUC:\n"
     ]
    },
    {
     "data": {
      "image/png": "[encoded data removed]",
      "text/plain": [
       "<Figure size 432x288 with 1 Axes>"
      ]
     },
     "metadata": {},
     "output_type": "display_data"
    }
   ],
   "source": [
    "from sklearn.metrics import plot_roc_curve\n",
    "\n",
    "(accuracy, precision, recall, f1score, roc) = preprocessing.calcular_metricas(y_test, gscv_lineal.best_estimator_.predict(X_test))\n",
    "print(f\"Accuracy: {accuracy} \\nPrecision: {precision} \\nRecall: {recall} \\nF1-score: {f1score} \\nCurva ROC-AUC:\")\n",
    "roc = plot_roc_curve(gscv_lineal.best_estimator_, X_test, y_test)"
   ]
  },
  {
   "cell_type": "markdown",
   "id": "02e32d35",
   "metadata": {},
   "source": [
    "## Kernel polinomial"
   ]
  },
  {
   "cell_type": "code",
   "execution_count": 9,
   "id": "6fc0e4c4",
   "metadata": {},
   "outputs": [
    {
     "data": {
      "text/plain": [
       "{'C': 0.1, 'degree': 2, 'gamma': 'auto'}"
      ]
     },
     "execution_count": 9,
     "metadata": {},
     "output_type": "execute_result"
    }
   ],
   "source": [
    "from sklearn.model_selection import GridSearchCV \n",
    "from sklearn import svm\n",
    "\n",
    "clf = svm.SVC(kernel='poly', cache_size = 400)\n",
    "params = {'C': [0.1, 1, 10], 'gamma': ['scale', 'auto'], 'degree': [2, 3]}\n",
    "\n",
    "gscv_poly = GridSearchCV(\n",
    "    clf, params, scoring='roc_auc', n_jobs=-1, cv=5, return_train_score=True\n",
    ").fit(X_train, y_train)\n",
    "\n",
    "gscv_poly.best_params_"
   ]
  },
  {
   "cell_type": "markdown",
   "id": "05623f89",
   "metadata": {},
   "source": [
    "### Métricas\n"
   ]
  },
  {
   "cell_type": "markdown",
   "id": "d3ec6d87",
   "metadata": {},
   "source": [
    "Curva AUC-ROC, Accuracy, Precision, Recall, F1 score:"
   ]
  },
  {
   "cell_type": "code",
   "execution_count": 10,
   "id": "3e3be69f",
   "metadata": {},
   "outputs": [
    {
     "name": "stdout",
     "output_type": "stream",
     "text": [
      "Accuracy: 0.7794953165787992 \n",
      "Precision: 0.6247642991829039 \n",
      "Recall: 0.9597491909385113 \n",
      "F1-score: 0.3157560355781448 \n",
      "Curva ROC-AUC:\n"
     ]
    },
    {
     "data": {
      "image/png": "[encoded data removed]",
      "text/plain": [
       "<Figure size 432x288 with 1 Axes>"
      ]
     },
     "metadata": {},
     "output_type": "display_data"
    }
   ],
   "source": [
    "from sklearn.metrics import plot_roc_curve\n",
    "\n",
    "(accuracy, precision, recall, f1score, roc) = preprocessing.calcular_metricas(y_test, gscv_poly.best_estimator_.predict(X_test))\n",
    "print(f\"Accuracy: {accuracy} \\nPrecision: {precision} \\nRecall: {recall} \\nF1-score: {f1score} \\nCurva ROC-AUC:\")\n",
    "roc = plot_roc_curve(gscv_poly.best_estimator_, X_test, y_test)"
   ]
  },
  {
   "cell_type": "markdown",
   "id": "6cfc0a78",
   "metadata": {},
   "source": [
    "## Kernel radial"
   ]
  },
  {
   "cell_type": "code",
   "execution_count": 11,
   "id": "984d75f3",
   "metadata": {},
   "outputs": [
    {
     "data": {
      "text/plain": [
       "{'C': 1, 'gamma': 'scale'}"
      ]
     },
     "execution_count": 11,
     "metadata": {},
     "output_type": "execute_result"
    }
   ],
   "source": [
    "from sklearn.model_selection import GridSearchCV \n",
    "from sklearn import svm\n",
    "\n",
    "clf = svm.SVC(kernel='rbf', cache_size = 400)\n",
    "params = {'C': [0.1, 1, 10], 'gamma': ['scale', 'auto']}\n",
    "\n",
    "gscv_rbf = GridSearchCV(\n",
    "    clf, params, scoring='roc_auc', n_jobs=-1, cv=5, return_train_score=True\n",
    ").fit(X_train, y_train)\n",
    "\n",
    "gscv_rbf.best_params_"
   ]
  },
  {
   "cell_type": "markdown",
   "id": "00ae835d",
   "metadata": {},
   "source": [
    "### Métricas\n"
   ]
  },
  {
   "cell_type": "markdown",
   "id": "ddc12700",
   "metadata": {},
   "source": [
    "Curva AUC-ROC, Accuracy, Precision, Recall, F1 score:"
   ]
  },
  {
   "cell_type": "code",
   "execution_count": 12,
   "id": "230b7610",
   "metadata": {},
   "outputs": [
    {
     "name": "stdout",
     "output_type": "stream",
     "text": [
      "Accuracy: 0.783846035727082 \n",
      "Precision: 0.5986088379705401 \n",
      "Recall: 0.9338592233009708 \n",
      "F1-score: 0.4092880123094139 \n",
      "Curva ROC-AUC:\n"
     ]
    },
    {
     "data": {
      "image/png": "[encoded data removed]",
      "text/plain": [
       "<Figure size 432x288 with 1 Axes>"
      ]
     },
     "metadata": {},
     "output_type": "display_data"
    }
   ],
   "source": [
    "from sklearn.metrics import plot_roc_curve\n",
    "\n",
    "(accuracy, precision, recall, f1score, roc) = preprocessing.calcular_metricas(y_test, gscv_rbf.best_estimator_.predict(X_test))\n",
    "print(f\"Accuracy: {accuracy} \\nPrecision: {precision} \\nRecall: {recall} \\nF1-score: {f1score} \\nCurva ROC-AUC:\")\n",
    "roc = plot_roc_curve(gscv_rbf.best_estimator_, X_test, y_test)"
   ]
  },
  {
   "cell_type": "markdown",
   "id": "03fc6418",
   "metadata": {},
   "source": [
    "## Kernel sigmoideo"
   ]
  },
  {
   "cell_type": "code",
   "execution_count": 13,
   "id": "100cb9b0",
   "metadata": {},
   "outputs": [
    {
     "data": {
      "text/plain": [
       "{'C': 0.1, 'gamma': 'auto'}"
      ]
     },
     "execution_count": 13,
     "metadata": {},
     "output_type": "execute_result"
    }
   ],
   "source": [
    "from sklearn.model_selection import GridSearchCV \n",
    "from sklearn import svm\n",
    "\n",
    "clf = svm.SVC(kernel='sigmoid', cache_size = 400)\n",
    "params = {'C': [0.1, 1, 10], 'gamma': ['scale', 'auto'] }\n",
    "\n",
    "gscv_sig = GridSearchCV(\n",
    "    clf, params, scoring='roc_auc', n_jobs=-1, cv=5, return_train_score=True\n",
    ").fit(X_train, y_train)\n",
    "\n",
    "gscv_sig.best_params_"
   ]
  },
  {
   "cell_type": "markdown",
   "id": "4ecda6a0",
   "metadata": {},
   "source": [
    "### Métricas\n"
   ]
  },
  {
   "cell_type": "markdown",
   "id": "cfd95c75",
   "metadata": {},
   "source": [
    "Curva AUC-ROC, Accuracy, Precision, Recall, F1 score:"
   ]
  },
  {
   "cell_type": "code",
   "execution_count": 14,
   "id": "dbaf5683",
   "metadata": {},
   "outputs": [
    {
     "name": "stdout",
     "output_type": "stream",
     "text": [
      "Accuracy: 0.7794953165787992 \n",
      "Precision: 0.6247642991829039 \n",
      "Recall: 0.9597491909385113 \n",
      "F1-score: 0.3157560355781448 \n",
      "Curva ROC-AUC:\n"
     ]
    },
    {
     "data": {
      "image/png": "[encoded data removed]",
      "text/plain": [
       "<Figure size 432x288 with 1 Axes>"
      ]
     },
     "metadata": {},
     "output_type": "display_data"
    }
   ],
   "source": [
    "from sklearn.metrics import plot_roc_curve\n",
    "\n",
    "(accuracy, precision, recall, f1score, roc) = preprocessing.calcular_metricas(y_test, gscv_sig.best_estimator_.predict(X_test))\n",
    "print(f\"Accuracy: {accuracy} \\nPrecision: {precision} \\nRecall: {recall} \\nF1-score: {f1score} \\nCurva ROC-AUC:\")\n",
    "roc = plot_roc_curve(gscv_sig.best_estimator_, X_test, y_test)"
   ]
  }
 ],
 "metadata": {
  "kernelspec": {
   "display_name": "Python 3",
   "language": "python",
   "name": "python3"
  },
  "language_info": {
   "codemirror_mode": {
    "name": "ipython",
    "version": 3
   },
   "file_extension": ".py",
   "mimetype": "text/x-python",
   "name": "python",
   "nbconvert_exporter": "python",
   "pygments_lexer": "ipython3",
   "version": "3.8.5"
  },
  "toc-autonumbering": true
 },
 "nbformat": 4,
 "nbformat_minor": 5
}
