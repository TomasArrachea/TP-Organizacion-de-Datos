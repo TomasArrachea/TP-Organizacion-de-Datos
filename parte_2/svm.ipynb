{
 "cells": [
  {
   "cell_type": "code",
   "execution_count": 1,
   "id": "7f6d16be",
   "metadata": {},
   "outputs": [],
   "source": [
    "import pandas as pd\n",
    "import numpy as np\n",
    "import seaborn as sns\n",
    "from matplotlib import pyplot as plt\n",
    "import preprocessing\n",
    "\n",
    "sns.set()"
   ]
  },
  {
   "cell_type": "code",
   "execution_count": 2,
   "id": "9a150de6",
   "metadata": {},
   "outputs": [],
   "source": [
    "GSPREADHSEET_DOWNLOAD_URL = (\n",
    "    \"https://docs.google.com/spreadsheets/d/{gid}/export?format=csv&id={gid}\".format\n",
    ")\n",
    "\n",
    "FIUFIP_2021_1_GID = '1-DWTP8uwVS-dZY402-dm0F9ICw_6PNqDGLmH0u8Eqa0'\n",
    "df = pd.read_csv(GSPREADHSEET_DOWNLOAD_URL(gid=FIUFIP_2021_1_GID))"
   ]
  },
  {
   "cell_type": "markdown",
   "id": "11becfcd",
   "metadata": {},
   "source": [
    "# Preprocesamiento"
   ]
  },
  {
   "cell_type": "markdown",
   "id": "93091b3d",
   "metadata": {},
   "source": [
    "## Conversión de variables"
   ]
  },
  {
   "cell_type": "markdown",
   "id": "22203b17",
   "metadata": {},
   "source": [
    "Hay que convertir todos los features categóricos a números. Para variables categóricas se usarán Dummy Variables y para ordinales OrdinalEncoder."
   ]
  },
  {
   "cell_type": "code",
   "execution_count": 3,
   "id": "fb9a5057",
   "metadata": {},
   "outputs": [],
   "source": [
    "X = df.drop('tiene_alto_valor_adquisitivo', axis=1)\n",
    "X = preprocessing.ordinal_encode(X)\n",
    "X = preprocessing.dummy_variables(X)"
   ]
  },
  {
   "cell_type": "markdown",
   "id": "9f946f2f",
   "metadata": {},
   "source": [
    "## Normalización"
   ]
  },
  {
   "cell_type": "code",
   "execution_count": 4,
   "id": "5a2bd9f7",
   "metadata": {},
   "outputs": [],
   "source": [
    "from sklearn import preprocessing as preproc \n",
    "\n",
    "normalizer = preproc.Normalizer()\n",
    "X = normalizer.transform(X)"
   ]
  },
  {
   "cell_type": "markdown",
   "id": "42f0b166",
   "metadata": {},
   "source": [
    "## Reducción de dimensionalidad: PCA"
   ]
  },
  {
   "cell_type": "code",
   "execution_count": 5,
   "id": "ba383969",
   "metadata": {},
   "outputs": [
    {
     "data": {
      "text/plain": [
       "(32561, 4)"
      ]
     },
     "execution_count": 5,
     "metadata": {},
     "output_type": "execute_result"
    }
   ],
   "source": [
    "from sklearn.decomposition import PCA\n",
    "\n",
    "pca = PCA(n_components=0.99)\n",
    "pca.fit(X)\n",
    "X = pca.transform(X)\n",
    "X.shape"
   ]
  },
  {
   "cell_type": "markdown",
   "id": "f42aa810",
   "metadata": {},
   "source": [
    "Con 4 componentes principales se cubre el 99% de la varianza."
   ]
  },
  {
   "cell_type": "markdown",
   "id": "e6e53b39",
   "metadata": {},
   "source": [
    "# SVM: entrenamiento y búsqueda de hiperparámetros."
   ]
  },
  {
   "cell_type": "markdown",
   "id": "b63ca28a",
   "metadata": {},
   "source": [
    "### Cross validation"
   ]
  },
  {
   "cell_type": "markdown",
   "id": "059722ce",
   "metadata": {},
   "source": [
    "Se usa una baja proporción de datos para train para acelerar el entrenamiento de SVM."
   ]
  },
  {
   "cell_type": "code",
   "execution_count": 6,
   "id": "f5269721",
   "metadata": {},
   "outputs": [
    {
     "name": "stdout",
     "output_type": "stream",
     "text": [
      "X_train tiene 9768 elementos\n"
     ]
    }
   ],
   "source": [
    "y = df.tiene_alto_valor_adquisitivo\n",
    "X_train, X_test, y_train, y_test = preprocessing.dataset_split(pd.DataFrame(X), y, test_size = 0.70)\n",
    "print(f'X_train tiene {len(X_train)} elementos')"
   ]
  },
  {
   "cell_type": "markdown",
   "id": "11ed3e41",
   "metadata": {},
   "source": [
    "Se usa GridSearch para buscar la mejor combinación de hiperparámetros. Se elige la mejor combinación según su score de la curva ROC-AUC. "
   ]
  },
  {
   "cell_type": "markdown",
   "id": "1bb142e5",
   "metadata": {},
   "source": [
    "## Kernel lineal"
   ]
  },
  {
   "cell_type": "code",
   "execution_count": 7,
   "id": "68de30df",
   "metadata": {},
   "outputs": [
    {
     "data": {
      "text/plain": [
       "{'C': 1, 'gamma': 'scale'}"
      ]
     },
     "execution_count": 7,
     "metadata": {},
     "output_type": "execute_result"
    }
   ],
   "source": [
    "from sklearn.model_selection import GridSearchCV \n",
    "from sklearn import svm\n",
    "\n",
    "clf = svm.SVC(kernel='linear', cache_size = 400)\n",
    "params = {'C': [0.1, 1, 10], 'gamma': ['scale', 'auto']}\n",
    "\n",
    "gscv_lineal = GridSearchCV(\n",
    "    clf, params, scoring='roc_auc', n_jobs=-1, cv=5, return_train_score=True\n",
    ").fit(X_train, y_train)\n",
    "\n",
    "gscv_lineal.best_params_"
   ]
  },
  {
   "cell_type": "markdown",
   "id": "a9130b74",
   "metadata": {},
   "source": [
    "### Métricas\n"
   ]
  },
  {
   "cell_type": "markdown",
   "id": "4e802fd7",
   "metadata": {},
   "source": [
    "Curva AUC-ROC, Accuracy, Precision, Recall, F1 score:"
   ]
  },
  {
   "cell_type": "code",
   "execution_count": 8,
   "id": "2c530a8c",
   "metadata": {},
   "outputs": [
    {
     "name": "stdout",
     "output_type": "stream",
     "text": [
      "Accuracy: 0.7790988461369719 \n",
      "Precision: 0.6207446808510638 \n",
      "Recall: 0.9587956541840037 \n",
      "F1-score: 0.31673225675125527 \n",
      "Curva ROC-AUC:\n"
     ]
    },
    {
     "data": {
      "image/png": "[encoded data removed]",
      "text/plain": [
       "<Figure size 432x288 with 1 Axes>"
      ]
     },
     "metadata": {},
     "output_type": "display_data"
    }
   ],
   "source": [
    "from sklearn.metrics import plot_roc_curve\n",
    "\n",
    "(accuracy, precision, recall, f1score, roc) = preprocessing.calcular_metricas(y_test, gscv_lineal.best_estimator_.predict(X_test))\n",
    "print(f\"Accuracy: {accuracy} \\nPrecision: {precision} \\nRecall: {recall} \\nF1-score: {f1score} \\nCurva ROC-AUC:\")\n",
    "roc = plot_roc_curve(gscv_lineal.best_estimator_, X_test, y_test)"
   ]
  },
  {
   "cell_type": "markdown",
   "id": "5168e692",
   "metadata": {},
   "source": [
    "## Kernel polinomial"
   ]
  },
  {
   "cell_type": "code",
   "execution_count": 9,
   "id": "f20cc473",
   "metadata": {},
   "outputs": [
    {
     "data": {
      "text/plain": [
       "{'C': 0.1, 'degree': 2, 'gamma': 'auto'}"
      ]
     },
     "execution_count": 9,
     "metadata": {},
     "output_type": "execute_result"
    }
   ],
   "source": [
    "from sklearn.model_selection import GridSearchCV \n",
    "from sklearn import svm\n",
    "\n",
    "clf = svm.SVC(kernel='poly', cache_size = 400)\n",
    "params = {'C': [0.1, 1, 10], 'gamma': ['scale', 'auto'], 'degree': [2, 3]}\n",
    "\n",
    "gscv_poly = GridSearchCV(\n",
    "    clf, params, scoring='roc_auc', n_jobs=-1, cv=5, return_train_score=True\n",
    ").fit(X_train, y_train)\n",
    "\n",
    "gscv_poly.best_params_"
   ]
  },
  {
   "cell_type": "markdown",
   "id": "40587aa6",
   "metadata": {},
   "source": [
    "### Métricas\n"
   ]
  },
  {
   "cell_type": "markdown",
   "id": "a657eb5f",
   "metadata": {},
   "source": [
    "Curva AUC-ROC, Accuracy, Precision, Recall, F1 score:"
   ]
  },
  {
   "cell_type": "code",
   "execution_count": 10,
   "id": "3c5657b2",
   "metadata": {},
   "outputs": [
    {
     "name": "stdout",
     "output_type": "stream",
     "text": [
      "Accuracy: 0.7791427192559119 \n",
      "Precision: 0.6210750399148484 \n",
      "Recall: 0.9588534442903375 \n",
      "F1-score: 0.3167752442996743 \n",
      "Curva ROC-AUC:\n"
     ]
    },
    {
     "data": {
      "image/png": "[encoded data removed]",
      "text/plain": [
       "<Figure size 432x288 with 1 Axes>"
      ]
     },
     "metadata": {},
     "output_type": "display_data"
    }
   ],
   "source": [
    "from sklearn.metrics import plot_roc_curve\n",
    "\n",
    "(accuracy, precision, recall, f1score, roc) = preprocessing.calcular_metricas(y_test, gscv_poly.best_estimator_.predict(X_test))\n",
    "print(f\"Accuracy: {accuracy} \\nPrecision: {precision} \\nRecall: {recall} \\nF1-score: {f1score} \\nCurva ROC-AUC:\")\n",
    "roc = plot_roc_curve(gscv_poly.best_estimator_, X_test, y_test)"
   ]
  },
  {
   "cell_type": "markdown",
   "id": "9d99eadc",
   "metadata": {},
   "source": [
    "## Kernel radial"
   ]
  },
  {
   "cell_type": "code",
   "execution_count": 11,
   "id": "bb7d0869",
   "metadata": {},
   "outputs": [
    {
     "data": {
      "text/plain": [
       "{'C': 1, 'gamma': 'scale'}"
      ]
     },
     "execution_count": 11,
     "metadata": {},
     "output_type": "execute_result"
    }
   ],
   "source": [
    "from sklearn.model_selection import GridSearchCV \n",
    "from sklearn import svm\n",
    "\n",
    "clf = svm.SVC(kernel='rbf', cache_size = 400)\n",
    "params = {'C': [0.1, 1, 10], 'gamma': ['scale', 'auto']}\n",
    "\n",
    "gscv_rbf = GridSearchCV(\n",
    "    clf, params, scoring='roc_auc', n_jobs=-1, cv=5, return_train_score=True\n",
    ").fit(X_train, y_train)\n",
    "\n",
    "gscv_rbf.best_params_"
   ]
  },
  {
   "cell_type": "markdown",
   "id": "6f6d9c9a",
   "metadata": {},
   "source": [
    "### Métricas\n"
   ]
  },
  {
   "cell_type": "markdown",
   "id": "a89ae6d8",
   "metadata": {},
   "source": [
    "Curva AUC-ROC, Accuracy, Precision, Recall, F1 score:"
   ]
  },
  {
   "cell_type": "code",
   "execution_count": 12,
   "id": "be987b08",
   "metadata": {},
   "outputs": [
    {
     "name": "stdout",
     "output_type": "stream",
     "text": [
      "Accuracy: 0.782740315008994 \n",
      "Precision: 0.5931321540062435 \n",
      "Recall: 0.9322122052704577 \n",
      "F1-score: 0.40850453893932154 \n",
      "Curva ROC-AUC:\n"
     ]
    },
    {
     "data": {
      "image/png": "[encoded data removed]",
      "text/plain": [
       "<Figure size 432x288 with 1 Axes>"
      ]
     },
     "metadata": {},
     "output_type": "display_data"
    }
   ],
   "source": [
    "from sklearn.metrics import plot_roc_curve\n",
    "\n",
    "(accuracy, precision, recall, f1score, roc) = preprocessing.calcular_metricas(y_test, gscv_rbf.best_estimator_.predict(X_test))\n",
    "print(f\"Accuracy: {accuracy} \\nPrecision: {precision} \\nRecall: {recall} \\nF1-score: {f1score} \\nCurva ROC-AUC:\")\n",
    "roc = plot_roc_curve(gscv_rbf.best_estimator_, X_test, y_test)"
   ]
  },
  {
   "cell_type": "markdown",
   "id": "454234d5",
   "metadata": {},
   "source": [
    "## Kernel sigmoideo"
   ]
  },
  {
   "cell_type": "code",
   "execution_count": 13,
   "id": "c550a05f",
   "metadata": {},
   "outputs": [
    {
     "data": {
      "text/plain": [
       "{'C': 0.1, 'gamma': 'auto'}"
      ]
     },
     "execution_count": 13,
     "metadata": {},
     "output_type": "execute_result"
    }
   ],
   "source": [
    "from sklearn.model_selection import GridSearchCV \n",
    "from sklearn import svm\n",
    "\n",
    "clf = svm.SVC(kernel='sigmoid', cache_size = 400)\n",
    "params = {'C': [0.1, 1, 10], 'gamma': ['scale', 'auto'] }\n",
    "\n",
    "gscv_sig = GridSearchCV(\n",
    "    clf, params, scoring='roc_auc', n_jobs=-1, cv=5, return_train_score=True\n",
    ").fit(X_train, y_train)\n",
    "\n",
    "gscv_sig.best_params_"
   ]
  },
  {
   "cell_type": "markdown",
   "id": "4703133e",
   "metadata": {},
   "source": [
    "### Métricas\n"
   ]
  },
  {
   "cell_type": "markdown",
   "id": "e24700c4",
   "metadata": {},
   "source": [
    "Curva AUC-ROC, Accuracy, Precision, Recall, F1 score:"
   ]
  },
  {
   "cell_type": "code",
   "execution_count": 14,
   "id": "c5e95c54",
   "metadata": {},
   "outputs": [
    {
     "name": "stdout",
     "output_type": "stream",
     "text": [
      "Accuracy: 0.7790988461369719 \n",
      "Precision: 0.6207446808510638 \n",
      "Recall: 0.9587956541840037 \n",
      "F1-score: 0.31673225675125527 \n",
      "Curva ROC-AUC:\n"
     ]
    },
    {
     "data": {
      "image/png": "[encoded data removed]",
      "text/plain": [
       "<Figure size 432x288 with 1 Axes>"
      ]
     },
     "metadata": {},
     "output_type": "display_data"
    }
   ],
   "source": [
    "from sklearn.metrics import plot_roc_curve\n",
    "\n",
    "(accuracy, precision, recall, f1score, roc) = preprocessing.calcular_metricas(y_test, gscv_sig.best_estimator_.predict(X_test))\n",
    "print(f\"Accuracy: {accuracy} \\nPrecision: {precision} \\nRecall: {recall} \\nF1-score: {f1score} \\nCurva ROC-AUC:\")\n",
    "roc = plot_roc_curve(gscv_sig.best_estimator_, X_test, y_test)"
   ]
  }
 ],
 "metadata": {
  "kernelspec": {
   "display_name": "Python 3",
   "language": "python",
   "name": "python3"
  },
  "language_info": {
   "codemirror_mode": {
    "name": "ipython",
    "version": 3
   },
   "file_extension": ".py",
   "mimetype": "text/x-python",
   "name": "python",
   "nbconvert_exporter": "python",
   "pygments_lexer": "ipython3",
   "version": "3.8.5"
  },
  "toc-autonumbering": true
 },
 "nbformat": 4,
 "nbformat_minor": 5
}
